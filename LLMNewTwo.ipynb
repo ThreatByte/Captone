{
 "cells": [
  {
   "cell_type": "markdown",
   "metadata": {},
   "source": [
    "# LLM Notebook"
   ]
  },
  {
   "cell_type": "markdown",
   "metadata": {},
   "source": [
    "# Dependencies"
   ]
  },
  {
   "cell_type": "code",
   "execution_count": 1,
   "metadata": {},
   "outputs": [
    {
     "name": "stdout",
     "output_type": "stream",
     "text": [
      "Requirement already satisfied: transformers in c:\\users\\chris laptop\\appdata\\local\\programs\\python\\python311\\lib\\site-packages (4.38.2)Note: you may need to restart the kernel to use updated packages.\n"
     ]
    },
    {
     "name": "stderr",
     "output_type": "stream",
     "text": [
      "\n",
      "[notice] A new release of pip available: 22.3.1 -> 24.2\n",
      "[notice] To update, run: python.exe -m pip install --upgrade pip\n"
     ]
    },
    {
     "name": "stdout",
     "output_type": "stream",
     "text": [
      "\n",
      "Requirement already satisfied: filelock in c:\\users\\chris laptop\\appdata\\local\\programs\\python\\python311\\lib\\site-packages (from transformers) (3.13.1)\n",
      "Requirement already satisfied: huggingface-hub<1.0,>=0.19.3 in c:\\users\\chris laptop\\appdata\\local\\programs\\python\\python311\\lib\\site-packages (from transformers) (0.21.4)\n",
      "Requirement already satisfied: numpy>=1.17 in c:\\users\\chris laptop\\appdata\\local\\programs\\python\\python311\\lib\\site-packages (from transformers) (1.26.4)\n",
      "Requirement already satisfied: packaging>=20.0 in c:\\users\\chris laptop\\appdata\\local\\programs\\python\\python311\\lib\\site-packages (from transformers) (24.0)\n",
      "Requirement already satisfied: pyyaml>=5.1 in c:\\users\\chris laptop\\appdata\\local\\programs\\python\\python311\\lib\\site-packages (from transformers) (6.0.1)\n",
      "Requirement already satisfied: regex!=2019.12.17 in c:\\users\\chris laptop\\appdata\\local\\programs\\python\\python311\\lib\\site-packages (from transformers) (2023.12.25)\n",
      "Requirement already satisfied: requests in c:\\users\\chris laptop\\appdata\\local\\programs\\python\\python311\\lib\\site-packages (from transformers) (2.31.0)\n",
      "Requirement already satisfied: tokenizers<0.19,>=0.14 in c:\\users\\chris laptop\\appdata\\local\\programs\\python\\python311\\lib\\site-packages (from transformers) (0.15.2)\n",
      "Requirement already satisfied: safetensors>=0.4.1 in c:\\users\\chris laptop\\appdata\\local\\programs\\python\\python311\\lib\\site-packages (from transformers) (0.4.2)\n",
      "Requirement already satisfied: tqdm>=4.27 in c:\\users\\chris laptop\\appdata\\local\\programs\\python\\python311\\lib\\site-packages (from transformers) (4.66.2)\n",
      "Requirement already satisfied: fsspec>=2023.5.0 in c:\\users\\chris laptop\\appdata\\local\\programs\\python\\python311\\lib\\site-packages (from huggingface-hub<1.0,>=0.19.3->transformers) (2024.3.1)\n",
      "Requirement already satisfied: typing-extensions>=3.7.4.3 in c:\\users\\chris laptop\\appdata\\local\\programs\\python\\python311\\lib\\site-packages (from huggingface-hub<1.0,>=0.19.3->transformers) (4.10.0)\n",
      "Requirement already satisfied: colorama in c:\\users\\chris laptop\\appdata\\local\\programs\\python\\python311\\lib\\site-packages (from tqdm>=4.27->transformers) (0.4.6)\n",
      "Requirement already satisfied: charset-normalizer<4,>=2 in c:\\users\\chris laptop\\appdata\\local\\programs\\python\\python311\\lib\\site-packages (from requests->transformers) (3.3.2)\n",
      "Requirement already satisfied: idna<4,>=2.5 in c:\\users\\chris laptop\\appdata\\local\\programs\\python\\python311\\lib\\site-packages (from requests->transformers) (3.6)\n",
      "Requirement already satisfied: urllib3<3,>=1.21.1 in c:\\users\\chris laptop\\appdata\\local\\programs\\python\\python311\\lib\\site-packages (from requests->transformers) (2.2.1)\n",
      "Requirement already satisfied: certifi>=2017.4.17 in c:\\users\\chris laptop\\appdata\\local\\programs\\python\\python311\\lib\\site-packages (from requests->transformers) (2024.2.2)\n"
     ]
    }
   ],
   "source": [
    "pip install transformers"
   ]
  },
  {
   "cell_type": "code",
   "execution_count": 2,
   "metadata": {},
   "outputs": [
    {
     "name": "stdout",
     "output_type": "stream",
     "text": [
      "Requirement already satisfied: datasets in c:\\users\\chris laptop\\appdata\\local\\programs\\python\\python311\\lib\\site-packages (2.19.1)\n",
      "Requirement already satisfied: filelock in c:\\users\\chris laptop\\appdata\\local\\programs\\python\\python311\\lib\\site-packages (from datasets) (3.13.1)\n",
      "Requirement already satisfied: numpy>=1.17 in c:\\users\\chris laptop\\appdata\\local\\programs\\python\\python311\\lib\\site-packages (from datasets) (1.26.4)\n",
      "Requirement already satisfied: pyarrow>=12.0.0 in c:\\users\\chris laptop\\appdata\\local\\programs\\python\\python311\\lib\\site-packages (from datasets) (16.1.0)\n",
      "Requirement already satisfied: pyarrow-hotfix in c:\\users\\chris laptop\\appdata\\local\\programs\\python\\python311\\lib\\site-packages (from datasets) (0.6)\n",
      "Requirement already satisfied: dill<0.3.9,>=0.3.0 in c:\\users\\chris laptop\\appdata\\local\\programs\\python\\python311\\lib\\site-packages (from datasets) (0.3.8)\n",
      "Requirement already satisfied: pandas in c:\\users\\chris laptop\\appdata\\local\\programs\\python\\python311\\lib\\site-packages (from datasets) (2.2.2)\n",
      "Requirement already satisfied: requests>=2.19.0 in c:\\users\\chris laptop\\appdata\\local\\programs\\python\\python311\\lib\\site-packages (from datasets) (2.31.0)\n",
      "Requirement already satisfied: tqdm>=4.62.1 in c:\\users\\chris laptop\\appdata\\local\\programs\\python\\python311\\lib\\site-packages (from datasets) (4.66.2)\n",
      "Requirement already satisfied: xxhash in c:\\users\\chris laptop\\appdata\\local\\programs\\python\\python311\\lib\\site-packages (from datasets) (3.4.1)\n",
      "Requirement already satisfied: multiprocess in c:\\users\\chris laptop\\appdata\\local\\programs\\python\\python311\\lib\\site-packages (from datasets) (0.70.16)\n",
      "Requirement already satisfied: fsspec[http]<=2024.3.1,>=2023.1.0 in c:\\users\\chris laptop\\appdata\\local\\programs\\python\\python311\\lib\\site-packages (from datasets) (2024.3.1)\n",
      "Requirement already satisfied: aiohttp in c:\\users\\chris laptop\\appdata\\local\\programs\\python\\python311\\lib\\site-packages (from datasets) (3.9.5)\n",
      "Requirement already satisfied: huggingface-hub>=0.21.2 in c:\\users\\chris laptop\\appdata\\local\\programs\\python\\python311\\lib\\site-packages (from datasets) (0.21.4)\n",
      "Requirement already satisfied: packaging in c:\\users\\chris laptop\\appdata\\local\\programs\\python\\python311\\lib\\site-packages (from datasets) (24.0)\n",
      "Requirement already satisfied: pyyaml>=5.1 in c:\\users\\chris laptop\\appdata\\local\\programs\\python\\python311\\lib\\site-packages (from datasets) (6.0.1)\n",
      "Requirement already satisfied: aiosignal>=1.1.2 in c:\\users\\chris laptop\\appdata\\local\\programs\\python\\python311\\lib\\site-packages (from aiohttp->datasets) (1.3.1)\n",
      "Requirement already satisfied: attrs>=17.3.0 in c:\\users\\chris laptop\\appdata\\local\\programs\\python\\python311\\lib\\site-packages (from aiohttp->datasets) (23.2.0)\n",
      "Requirement already satisfied: frozenlist>=1.1.1 in c:\\users\\chris laptop\\appdata\\local\\programs\\python\\python311\\lib\\site-packages (from aiohttp->datasets) (1.4.1)\n",
      "Requirement already satisfied: multidict<7.0,>=4.5 in c:\\users\\chris laptop\\appdata\\local\\programs\\python\\python311\\lib\\site-packages (from aiohttp->datasets) (6.0.5)\n",
      "Requirement already satisfied: yarl<2.0,>=1.0 in c:\\users\\chris laptop\\appdata\\local\\programs\\python\\python311\\lib\\site-packages (from aiohttp->datasets) (1.9.4)\n",
      "Requirement already satisfied: typing-extensions>=3.7.4.3 in c:\\users\\chris laptop\\appdata\\local\\programs\\python\\python311\\lib\\site-packages (from huggingface-hub>=0.21.2->datasets) (4.10.0)\n",
      "Requirement already satisfied: charset-normalizer<4,>=2 in c:\\users\\chris laptop\\appdata\\local\\programs\\python\\python311\\lib\\site-packages (from requests>=2.19.0->datasets) (3.3.2)\n",
      "Requirement already satisfied: idna<4,>=2.5 in c:\\users\\chris laptop\\appdata\\local\\programs\\python\\python311\\lib\\site-packages (from requests>=2.19.0->datasets) (3.6)\n",
      "Requirement already satisfied: urllib3<3,>=1.21.1 in c:\\users\\chris laptop\\appdata\\local\\programs\\python\\python311\\lib\\site-packages (from requests>=2.19.0->datasets) (2.2.1)\n",
      "Requirement already satisfied: certifi>=2017.4.17 in c:\\users\\chris laptop\\appdata\\local\\programs\\python\\python311\\lib\\site-packages (from requests>=2.19.0->datasets) (2024.2.2)\n",
      "Requirement already satisfied: colorama in c:\\users\\chris laptop\\appdata\\local\\programs\\python\\python311\\lib\\site-packages (from tqdm>=4.62.1->datasets) (0.4.6)\n",
      "Requirement already satisfied: python-dateutil>=2.8.2 in c:\\users\\chris laptop\\appdata\\roaming\\python\\python311\\site-packages (from pandas->datasets) (2.9.0.post0)\n",
      "Requirement already satisfied: pytz>=2020.1 in c:\\users\\chris laptop\\appdata\\local\\programs\\python\\python311\\lib\\site-packages (from pandas->datasets) (2024.1)\n",
      "Requirement already satisfied: tzdata>=2022.7 in c:\\users\\chris laptop\\appdata\\local\\programs\\python\\python311\\lib\\site-packages (from pandas->datasets) (2024.1)\n",
      "Requirement already satisfied: six>=1.5 in c:\\users\\chris laptop\\appdata\\local\\programs\\python\\python311\\lib\\site-packages (from python-dateutil>=2.8.2->pandas->datasets) (1.16.0)\n",
      "Note: you may need to restart the kernel to use updated packages.\n"
     ]
    },
    {
     "name": "stderr",
     "output_type": "stream",
     "text": [
      "\n",
      "[notice] A new release of pip available: 22.3.1 -> 24.2\n",
      "[notice] To update, run: python.exe -m pip install --upgrade pip\n"
     ]
    }
   ],
   "source": [
    "pip install datasets"
   ]
  },
  {
   "cell_type": "code",
   "execution_count": 3,
   "metadata": {},
   "outputs": [
    {
     "name": "stdout",
     "output_type": "stream",
     "text": [
      "Requirement already satisfied: pandas in c:\\users\\chris laptop\\appdata\\local\\programs\\python\\python311\\lib\\site-packages (2.2.2)Note: you may need to restart the kernel to use updated packages.\n",
      "\n",
      "Requirement already satisfied: numpy>=1.23.2 in c:\\users\\chris laptop\\appdata\\local\\programs\\python\\python311\\lib\\site-packages (from pandas) (1.26.4)\n",
      "Requirement already satisfied: python-dateutil>=2.8.2 in c:\\users\\chris laptop\\appdata\\roaming\\python\\python311\\site-packages (from pandas) (2.9.0.post0)\n",
      "Requirement already satisfied: pytz>=2020.1 in c:\\users\\chris laptop\\appdata\\local\\programs\\python\\python311\\lib\\site-packages (from pandas) (2024.1)\n",
      "Requirement already satisfied: tzdata>=2022.7 in c:\\users\\chris laptop\\appdata\\local\\programs\\python\\python311\\lib\\site-packages (from pandas) (2024.1)\n",
      "Requirement already satisfied: six>=1.5 in c:\\users\\chris laptop\\appdata\\local\\programs\\python\\python311\\lib\\site-packages (from python-dateutil>=2.8.2->pandas) (1.16.0)\n"
     ]
    },
    {
     "name": "stderr",
     "output_type": "stream",
     "text": [
      "\n",
      "[notice] A new release of pip available: 22.3.1 -> 24.2\n",
      "[notice] To update, run: python.exe -m pip install --upgrade pip\n"
     ]
    }
   ],
   "source": [
    "pip install --upgrade pandas"
   ]
  },
  {
   "cell_type": "code",
   "execution_count": 4,
   "metadata": {},
   "outputs": [
    {
     "name": "stdout",
     "output_type": "stream",
     "text": [
      "Requirement already satisfied: evaluate in c:\\users\\chris laptop\\appdata\\local\\programs\\python\\python311\\lib\\site-packages (0.4.2)Note: you may need to restart the kernel to use updated packages.\n",
      "\n",
      "Requirement already satisfied: datasets>=2.0.0 in c:\\users\\chris laptop\\appdata\\local\\programs\\python\\python311\\lib\\site-packages (from evaluate) (2.19.1)\n",
      "Requirement already satisfied: numpy>=1.17 in c:\\users\\chris laptop\\appdata\\local\\programs\\python\\python311\\lib\\site-packages (from evaluate) (1.26.4)\n",
      "Requirement already satisfied: dill in c:\\users\\chris laptop\\appdata\\local\\programs\\python\\python311\\lib\\site-packages (from evaluate) (0.3.8)\n",
      "Requirement already satisfied: pandas in c:\\users\\chris laptop\\appdata\\local\\programs\\python\\python311\\lib\\site-packages (from evaluate) (2.2.2)\n",
      "Requirement already satisfied: requests>=2.19.0 in c:\\users\\chris laptop\\appdata\\local\\programs\\python\\python311\\lib\\site-packages (from evaluate) (2.31.0)\n",
      "Requirement already satisfied: tqdm>=4.62.1 in c:\\users\\chris laptop\\appdata\\local\\programs\\python\\python311\\lib\\site-packages (from evaluate) (4.66.2)\n",
      "Requirement already satisfied: xxhash in c:\\users\\chris laptop\\appdata\\local\\programs\\python\\python311\\lib\\site-packages (from evaluate) (3.4.1)\n",
      "Requirement already satisfied: multiprocess in c:\\users\\chris laptop\\appdata\\local\\programs\\python\\python311\\lib\\site-packages (from evaluate) (0.70.16)\n",
      "Requirement already satisfied: fsspec[http]>=2021.05.0 in c:\\users\\chris laptop\\appdata\\local\\programs\\python\\python311\\lib\\site-packages (from evaluate) (2024.3.1)\n",
      "Requirement already satisfied: huggingface-hub>=0.7.0 in c:\\users\\chris laptop\\appdata\\local\\programs\\python\\python311\\lib\\site-packages (from evaluate) (0.21.4)\n",
      "Requirement already satisfied: packaging in c:\\users\\chris laptop\\appdata\\local\\programs\\python\\python311\\lib\\site-packages (from evaluate) (24.0)\n",
      "Requirement already satisfied: filelock in c:\\users\\chris laptop\\appdata\\local\\programs\\python\\python311\\lib\\site-packages (from datasets>=2.0.0->evaluate) (3.13.1)\n",
      "Requirement already satisfied: pyarrow>=12.0.0 in c:\\users\\chris laptop\\appdata\\local\\programs\\python\\python311\\lib\\site-packages (from datasets>=2.0.0->evaluate) (16.1.0)\n",
      "Requirement already satisfied: pyarrow-hotfix in c:\\users\\chris laptop\\appdata\\local\\programs\\python\\python311\\lib\\site-packages (from datasets>=2.0.0->evaluate) (0.6)\n",
      "Requirement already satisfied: aiohttp in c:\\users\\chris laptop\\appdata\\local\\programs\\python\\python311\\lib\\site-packages (from datasets>=2.0.0->evaluate) (3.9.5)\n",
      "Requirement already satisfied: pyyaml>=5.1 in c:\\users\\chris laptop\\appdata\\local\\programs\\python\\python311\\lib\\site-packages (from datasets>=2.0.0->evaluate) (6.0.1)\n",
      "Requirement already satisfied: typing-extensions>=3.7.4.3 in c:\\users\\chris laptop\\appdata\\local\\programs\\python\\python311\\lib\\site-packages (from huggingface-hub>=0.7.0->evaluate) (4.10.0)\n",
      "Requirement already satisfied: charset-normalizer<4,>=2 in c:\\users\\chris laptop\\appdata\\local\\programs\\python\\python311\\lib\\site-packages (from requests>=2.19.0->evaluate) (3.3.2)\n",
      "Requirement already satisfied: idna<4,>=2.5 in c:\\users\\chris laptop\\appdata\\local\\programs\\python\\python311\\lib\\site-packages (from requests>=2.19.0->evaluate) (3.6)\n",
      "Requirement already satisfied: urllib3<3,>=1.21.1 in c:\\users\\chris laptop\\appdata\\local\\programs\\python\\python311\\lib\\site-packages (from requests>=2.19.0->evaluate) (2.2.1)\n",
      "Requirement already satisfied: certifi>=2017.4.17 in c:\\users\\chris laptop\\appdata\\local\\programs\\python\\python311\\lib\\site-packages (from requests>=2.19.0->evaluate) (2024.2.2)\n",
      "Requirement already satisfied: colorama in c:\\users\\chris laptop\\appdata\\local\\programs\\python\\python311\\lib\\site-packages (from tqdm>=4.62.1->evaluate) (0.4.6)\n",
      "Requirement already satisfied: python-dateutil>=2.8.2 in c:\\users\\chris laptop\\appdata\\roaming\\python\\python311\\site-packages (from pandas->evaluate) (2.9.0.post0)\n",
      "Requirement already satisfied: pytz>=2020.1 in c:\\users\\chris laptop\\appdata\\local\\programs\\python\\python311\\lib\\site-packages (from pandas->evaluate) (2024.1)\n",
      "Requirement already satisfied: tzdata>=2022.7 in c:\\users\\chris laptop\\appdata\\local\\programs\\python\\python311\\lib\\site-packages (from pandas->evaluate) (2024.1)\n",
      "Requirement already satisfied: aiosignal>=1.1.2 in c:\\users\\chris laptop\\appdata\\local\\programs\\python\\python311\\lib\\site-packages (from aiohttp->datasets>=2.0.0->evaluate) (1.3.1)\n",
      "Requirement already satisfied: attrs>=17.3.0 in c:\\users\\chris laptop\\appdata\\local\\programs\\python\\python311\\lib\\site-packages (from aiohttp->datasets>=2.0.0->evaluate) (23.2.0)\n",
      "Requirement already satisfied: frozenlist>=1.1.1 in c:\\users\\chris laptop\\appdata\\local\\programs\\python\\python311\\lib\\site-packages (from aiohttp->datasets>=2.0.0->evaluate) (1.4.1)\n",
      "Requirement already satisfied: multidict<7.0,>=4.5 in c:\\users\\chris laptop\\appdata\\local\\programs\\python\\python311\\lib\\site-packages (from aiohttp->datasets>=2.0.0->evaluate) (6.0.5)\n",
      "Requirement already satisfied: yarl<2.0,>=1.0 in c:\\users\\chris laptop\\appdata\\local\\programs\\python\\python311\\lib\\site-packages (from aiohttp->datasets>=2.0.0->evaluate) (1.9.4)\n",
      "Requirement already satisfied: six>=1.5 in c:\\users\\chris laptop\\appdata\\local\\programs\\python\\python311\\lib\\site-packages (from python-dateutil>=2.8.2->pandas->evaluate) (1.16.0)\n"
     ]
    },
    {
     "name": "stderr",
     "output_type": "stream",
     "text": [
      "\n",
      "[notice] A new release of pip available: 22.3.1 -> 24.2\n",
      "[notice] To update, run: python.exe -m pip install --upgrade pip\n"
     ]
    }
   ],
   "source": [
    "pip install evaluate"
   ]
  },
  {
   "cell_type": "code",
   "execution_count": 5,
   "metadata": {},
   "outputs": [
    {
     "name": "stdout",
     "output_type": "stream",
     "text": [
      "Requirement already satisfied: torch==2.2.1 in c:\\users\\chris laptop\\appdata\\local\\programs\\python\\python311\\lib\\site-packages (2.2.1)\n",
      "Requirement already satisfied: filelock in c:\\users\\chris laptop\\appdata\\local\\programs\\python\\python311\\lib\\site-packages (from torch==2.2.1) (3.13.1)\n",
      "Requirement already satisfied: typing-extensions>=4.8.0 in c:\\users\\chris laptop\\appdata\\local\\programs\\python\\python311\\lib\\site-packages (from torch==2.2.1) (4.10.0)\n",
      "Requirement already satisfied: sympy in c:\\users\\chris laptop\\appdata\\local\\programs\\python\\python311\\lib\\site-packages (from torch==2.2.1) (1.12)\n",
      "Requirement already satisfied: networkx in c:\\users\\chris laptop\\appdata\\local\\programs\\python\\python311\\lib\\site-packages (from torch==2.2.1) (3.2.1)\n",
      "Requirement already satisfied: jinja2 in c:\\users\\chris laptop\\appdata\\local\\programs\\python\\python311\\lib\\site-packages (from torch==2.2.1) (3.1.3)\n",
      "Requirement already satisfied: fsspec in c:\\users\\chris laptop\\appdata\\local\\programs\\python\\python311\\lib\\site-packages (from torch==2.2.1) (2024.3.1)\n",
      "Requirement already satisfied: MarkupSafe>=2.0 in c:\\users\\chris laptop\\appdata\\local\\programs\\python\\python311\\lib\\site-packages (from jinja2->torch==2.2.1) (2.1.5)\n",
      "Requirement already satisfied: mpmath>=0.19 in c:\\users\\chris laptop\\appdata\\local\\programs\\python\\python311\\lib\\site-packages (from sympy->torch==2.2.1) (1.3.0)\n",
      "Note: you may need to restart the kernel to use updated packages.\n"
     ]
    },
    {
     "name": "stderr",
     "output_type": "stream",
     "text": [
      "\n",
      "[notice] A new release of pip available: 22.3.1 -> 24.2\n",
      "[notice] To update, run: python.exe -m pip install --upgrade pip\n"
     ]
    }
   ],
   "source": [
    "pip install torch==2.2.1"
   ]
  },
  {
   "cell_type": "markdown",
   "metadata": {},
   "source": [
    "# CSV FILE SETUP"
   ]
  },
  {
   "cell_type": "code",
   "execution_count": 6,
   "metadata": {},
   "outputs": [],
   "source": [
    "csv = \"Fileless-ResultsNew2.csv\" #CSV File Name Has Data On It\n",
    "text_column_name = \"Name\" #Column Name\n",
    "text_column_name_1 = \"pslist\" #Column pslist\n",
    "text_column_name_2 = \"pstree\" #Column pstree\n",
    "text_column_name_3 = \"psxview\" #Column psxview\n",
    "text_column_name_4 = \"dlllist\" #Column dlllist\n",
    "text_column_name_5 = \"handles\" #Column handles\n",
    "text_column_name_6 = \"ldrmodules\" #Column ldrmodules\n",
    "text_column_name_7 = \"svcscan\" #Column svcscan\n",
    "text_column_name_8 = \"cmdline\" #Column cmdline\n",
    "label = \"Category\" #Label Column\n",
    "model_name = \"ehsanaghaei/SecureBERT\" #Model Chosen Hugging Face\n",
    "test_size = 0.2 #Test Size Split 20% Test Train 80%\n",
    "num_labels = 2 #Fileless and Benign"
   ]
  },
  {
   "cell_type": "markdown",
   "metadata": {},
   "source": [
    "# CSV File Output"
   ]
  },
  {
   "cell_type": "code",
   "execution_count": 7,
   "metadata": {},
   "outputs": [],
   "source": [
    "import pandas as pd"
   ]
  },
  {
   "cell_type": "code",
   "execution_count": 8,
   "metadata": {},
   "outputs": [],
   "source": [
    "df = pd.read_csv(csv)"
   ]
  },
  {
   "cell_type": "code",
   "execution_count": 9,
   "metadata": {},
   "outputs": [
    {
     "data": {
      "text/html": [
       "<div>\n",
       "<style scoped>\n",
       "    .dataframe tbody tr th:only-of-type {\n",
       "        vertical-align: middle;\n",
       "    }\n",
       "\n",
       "    .dataframe tbody tr th {\n",
       "        vertical-align: top;\n",
       "    }\n",
       "\n",
       "    .dataframe thead th {\n",
       "        text-align: right;\n",
       "    }\n",
       "</style>\n",
       "<table border=\"1\" class=\"dataframe\">\n",
       "  <thead>\n",
       "    <tr style=\"text-align: right;\">\n",
       "      <th></th>\n",
       "      <th>Name</th>\n",
       "      <th>pslist</th>\n",
       "      <th>pstree</th>\n",
       "      <th>psxview</th>\n",
       "      <th>dlllist</th>\n",
       "      <th>handles</th>\n",
       "      <th>ldrmodules</th>\n",
       "      <th>svcscan</th>\n",
       "      <th>cmdline</th>\n",
       "      <th>Category</th>\n",
       "    </tr>\n",
       "  </thead>\n",
       "  <tbody>\n",
       "    <tr>\n",
       "      <th>0</th>\n",
       "      <td>physmem.raw</td>\n",
       "      <td>proforma invoice and bank swift-reg.pi-0086547...</td>\n",
       "      <td>The parent process is proforma invoice and ban...</td>\n",
       "      <td>proforma invoice and bank swift-reg.pi-0086547...</td>\n",
       "      <td>ADVAPI32.dll            KERNEL32.dll          ...</td>\n",
       "      <td>proforma invoice and bank swift-reg.pi-0086547...</td>\n",
       "      <td>ADVAPI32.dll            KERNEL32.dll          ...</td>\n",
       "      <td>vssvc.exe                               wbengi...</td>\n",
       "      <td>proforma invoice and bank swift-reg.pi-0086547...</td>\n",
       "      <td>Fileless</td>\n",
       "    </tr>\n",
       "    <tr>\n",
       "      <th>1</th>\n",
       "      <td>physmem2.raw</td>\n",
       "      <td>System                                        ...</td>\n",
       "      <td>The parent process is System                  ...</td>\n",
       "      <td>System                                        ...</td>\n",
       "      <td>ADVAPI32.dll            KERNEL32.dll          ...</td>\n",
       "      <td>System                                        ...</td>\n",
       "      <td>ADVAPI32.dll            KERNEL32.dll          ...</td>\n",
       "      <td>SamSs                                         ...</td>\n",
       "      <td>smss.exe executed the Command line :  \\SystemR...</td>\n",
       "      <td>Benign</td>\n",
       "    </tr>\n",
       "    <tr>\n",
       "      <th>2</th>\n",
       "      <td>physmem3.raw</td>\n",
       "      <td>proforma invoice and bank swift-reg.pi-0086547...</td>\n",
       "      <td>The parent process is proforma invoice and ban...</td>\n",
       "      <td>proforma invoice and bank swift-reg.pi-0086547...</td>\n",
       "      <td>ADVAPI32.dll            KERNEL32.dll          ...</td>\n",
       "      <td>proforma invoice and bank swift-reg.pi-0086547...</td>\n",
       "      <td>ADVAPI32.dll            KERNEL32.dll          ...</td>\n",
       "      <td>vssvc.exe                               wbengi...</td>\n",
       "      <td>proforma invoice and bank swift-reg.pi-0086547...</td>\n",
       "      <td>Fileless</td>\n",
       "    </tr>\n",
       "    <tr>\n",
       "      <th>3</th>\n",
       "      <td>physmem4.raw</td>\n",
       "      <td>System                                        ...</td>\n",
       "      <td>The parent process is System                  ...</td>\n",
       "      <td>System                                        ...</td>\n",
       "      <td>ADVAPI32.dll            KERNEL32.dll          ...</td>\n",
       "      <td>System                                        ...</td>\n",
       "      <td>ADVAPI32.dll            KERNEL32.dll          ...</td>\n",
       "      <td>SamSs                                         ...</td>\n",
       "      <td>smss.exe executed the Command line :  \\SystemR...</td>\n",
       "      <td>Benign</td>\n",
       "    </tr>\n",
       "    <tr>\n",
       "      <th>4</th>\n",
       "      <td>physmem5.raw</td>\n",
       "      <td>mshta.exe                                     ...</td>\n",
       "      <td>The parent process is regsvr32.exe            ...</td>\n",
       "      <td>mshta.exe                                     ...</td>\n",
       "      <td>ADVAPI32.dll              COMCTL32.dll        ...</td>\n",
       "      <td>regsvr32.exe                                  ...</td>\n",
       "      <td>ADVAPI32.dll              COMCTL32.dll        ...</td>\n",
       "      <td>No unique services</td>\n",
       "      <td>regsvr32.exe executed the Command line : regsv...</td>\n",
       "      <td>Fileless</td>\n",
       "    </tr>\n",
       "  </tbody>\n",
       "</table>\n",
       "</div>"
      ],
      "text/plain": [
       "           Name                                             pslist  \\\n",
       "0   physmem.raw  proforma invoice and bank swift-reg.pi-0086547...   \n",
       "1  physmem2.raw  System                                        ...   \n",
       "2  physmem3.raw  proforma invoice and bank swift-reg.pi-0086547...   \n",
       "3  physmem4.raw  System                                        ...   \n",
       "4  physmem5.raw  mshta.exe                                     ...   \n",
       "\n",
       "                                              pstree  \\\n",
       "0  The parent process is proforma invoice and ban...   \n",
       "1  The parent process is System                  ...   \n",
       "2  The parent process is proforma invoice and ban...   \n",
       "3  The parent process is System                  ...   \n",
       "4  The parent process is regsvr32.exe            ...   \n",
       "\n",
       "                                             psxview  \\\n",
       "0  proforma invoice and bank swift-reg.pi-0086547...   \n",
       "1  System                                        ...   \n",
       "2  proforma invoice and bank swift-reg.pi-0086547...   \n",
       "3  System                                        ...   \n",
       "4  mshta.exe                                     ...   \n",
       "\n",
       "                                             dlllist  \\\n",
       "0  ADVAPI32.dll            KERNEL32.dll          ...   \n",
       "1  ADVAPI32.dll            KERNEL32.dll          ...   \n",
       "2  ADVAPI32.dll            KERNEL32.dll          ...   \n",
       "3  ADVAPI32.dll            KERNEL32.dll          ...   \n",
       "4  ADVAPI32.dll              COMCTL32.dll        ...   \n",
       "\n",
       "                                             handles  \\\n",
       "0  proforma invoice and bank swift-reg.pi-0086547...   \n",
       "1  System                                        ...   \n",
       "2  proforma invoice and bank swift-reg.pi-0086547...   \n",
       "3  System                                        ...   \n",
       "4  regsvr32.exe                                  ...   \n",
       "\n",
       "                                          ldrmodules  \\\n",
       "0  ADVAPI32.dll            KERNEL32.dll          ...   \n",
       "1  ADVAPI32.dll            KERNEL32.dll          ...   \n",
       "2  ADVAPI32.dll            KERNEL32.dll          ...   \n",
       "3  ADVAPI32.dll            KERNEL32.dll          ...   \n",
       "4  ADVAPI32.dll              COMCTL32.dll        ...   \n",
       "\n",
       "                                             svcscan  \\\n",
       "0  vssvc.exe                               wbengi...   \n",
       "1  SamSs                                         ...   \n",
       "2  vssvc.exe                               wbengi...   \n",
       "3  SamSs                                         ...   \n",
       "4                                 No unique services   \n",
       "\n",
       "                                             cmdline  Category  \n",
       "0  proforma invoice and bank swift-reg.pi-0086547...  Fileless  \n",
       "1  smss.exe executed the Command line :  \\SystemR...    Benign  \n",
       "2  proforma invoice and bank swift-reg.pi-0086547...  Fileless  \n",
       "3  smss.exe executed the Command line :  \\SystemR...    Benign  \n",
       "4  regsvr32.exe executed the Command line : regsv...  Fileless  "
      ]
     },
     "execution_count": 9,
     "metadata": {},
     "output_type": "execute_result"
    }
   ],
   "source": [
    "df.head()"
   ]
  },
  {
   "cell_type": "markdown",
   "metadata": {},
   "source": [
    "# Label Encodeing"
   ]
  },
  {
   "cell_type": "code",
   "execution_count": 10,
   "metadata": {},
   "outputs": [
    {
     "name": "stdout",
     "output_type": "stream",
     "text": [
      "Requirement already satisfied: scikit-learn in c:\\users\\chris laptop\\appdata\\local\\programs\\python\\python311\\lib\\site-packages (1.5.0)\n",
      "Requirement already satisfied: numpy>=1.19.5 in c:\\users\\chris laptop\\appdata\\local\\programs\\python\\python311\\lib\\site-packages (from scikit-learn) (1.26.4)\n",
      "Requirement already satisfied: scipy>=1.6.0 in c:\\users\\chris laptop\\appdata\\local\\programs\\python\\python311\\lib\\site-packages (from scikit-learn) (1.13.1)\n",
      "Requirement already satisfied: joblib>=1.2.0 in c:\\users\\chris laptop\\appdata\\local\\programs\\python\\python311\\lib\\site-packages (from scikit-learn) (1.4.2)\n",
      "Requirement already satisfied: threadpoolctl>=3.1.0 in c:\\users\\chris laptop\\appdata\\local\\programs\\python\\python311\\lib\\site-packages (from scikit-learn) (3.5.0)\n",
      "Note: you may need to restart the kernel to use updated packages.\n"
     ]
    },
    {
     "name": "stderr",
     "output_type": "stream",
     "text": [
      "\n",
      "[notice] A new release of pip available: 22.3.1 -> 24.2\n",
      "[notice] To update, run: python.exe -m pip install --upgrade pip\n"
     ]
    }
   ],
   "source": [
    "pip install scikit-learn"
   ]
  },
  {
   "cell_type": "code",
   "execution_count": 11,
   "metadata": {},
   "outputs": [],
   "source": [
    "from sklearn import preprocessing"
   ]
  },
  {
   "cell_type": "code",
   "execution_count": 12,
   "metadata": {},
   "outputs": [],
   "source": [
    "le = preprocessing.LabelEncoder()\n",
    "le.fit(df[label].tolist())\n",
    "df['label'] = le.transform(df[label].tolist())"
   ]
  },
  {
   "cell_type": "code",
   "execution_count": 13,
   "metadata": {},
   "outputs": [
    {
     "data": {
      "text/html": [
       "<div>\n",
       "<style scoped>\n",
       "    .dataframe tbody tr th:only-of-type {\n",
       "        vertical-align: middle;\n",
       "    }\n",
       "\n",
       "    .dataframe tbody tr th {\n",
       "        vertical-align: top;\n",
       "    }\n",
       "\n",
       "    .dataframe thead th {\n",
       "        text-align: right;\n",
       "    }\n",
       "</style>\n",
       "<table border=\"1\" class=\"dataframe\">\n",
       "  <thead>\n",
       "    <tr style=\"text-align: right;\">\n",
       "      <th></th>\n",
       "      <th>Name</th>\n",
       "      <th>pslist</th>\n",
       "      <th>pstree</th>\n",
       "      <th>psxview</th>\n",
       "      <th>dlllist</th>\n",
       "      <th>handles</th>\n",
       "      <th>ldrmodules</th>\n",
       "      <th>svcscan</th>\n",
       "      <th>cmdline</th>\n",
       "      <th>Category</th>\n",
       "      <th>label</th>\n",
       "    </tr>\n",
       "  </thead>\n",
       "  <tbody>\n",
       "    <tr>\n",
       "      <th>0</th>\n",
       "      <td>physmem.raw</td>\n",
       "      <td>proforma invoice and bank swift-reg.pi-0086547...</td>\n",
       "      <td>The parent process is proforma invoice and ban...</td>\n",
       "      <td>proforma invoice and bank swift-reg.pi-0086547...</td>\n",
       "      <td>ADVAPI32.dll            KERNEL32.dll          ...</td>\n",
       "      <td>proforma invoice and bank swift-reg.pi-0086547...</td>\n",
       "      <td>ADVAPI32.dll            KERNEL32.dll          ...</td>\n",
       "      <td>vssvc.exe                               wbengi...</td>\n",
       "      <td>proforma invoice and bank swift-reg.pi-0086547...</td>\n",
       "      <td>Fileless</td>\n",
       "      <td>1</td>\n",
       "    </tr>\n",
       "    <tr>\n",
       "      <th>1</th>\n",
       "      <td>physmem2.raw</td>\n",
       "      <td>System                                        ...</td>\n",
       "      <td>The parent process is System                  ...</td>\n",
       "      <td>System                                        ...</td>\n",
       "      <td>ADVAPI32.dll            KERNEL32.dll          ...</td>\n",
       "      <td>System                                        ...</td>\n",
       "      <td>ADVAPI32.dll            KERNEL32.dll          ...</td>\n",
       "      <td>SamSs                                         ...</td>\n",
       "      <td>smss.exe executed the Command line :  \\SystemR...</td>\n",
       "      <td>Benign</td>\n",
       "      <td>0</td>\n",
       "    </tr>\n",
       "    <tr>\n",
       "      <th>2</th>\n",
       "      <td>physmem3.raw</td>\n",
       "      <td>proforma invoice and bank swift-reg.pi-0086547...</td>\n",
       "      <td>The parent process is proforma invoice and ban...</td>\n",
       "      <td>proforma invoice and bank swift-reg.pi-0086547...</td>\n",
       "      <td>ADVAPI32.dll            KERNEL32.dll          ...</td>\n",
       "      <td>proforma invoice and bank swift-reg.pi-0086547...</td>\n",
       "      <td>ADVAPI32.dll            KERNEL32.dll          ...</td>\n",
       "      <td>vssvc.exe                               wbengi...</td>\n",
       "      <td>proforma invoice and bank swift-reg.pi-0086547...</td>\n",
       "      <td>Fileless</td>\n",
       "      <td>1</td>\n",
       "    </tr>\n",
       "    <tr>\n",
       "      <th>3</th>\n",
       "      <td>physmem4.raw</td>\n",
       "      <td>System                                        ...</td>\n",
       "      <td>The parent process is System                  ...</td>\n",
       "      <td>System                                        ...</td>\n",
       "      <td>ADVAPI32.dll            KERNEL32.dll          ...</td>\n",
       "      <td>System                                        ...</td>\n",
       "      <td>ADVAPI32.dll            KERNEL32.dll          ...</td>\n",
       "      <td>SamSs                                         ...</td>\n",
       "      <td>smss.exe executed the Command line :  \\SystemR...</td>\n",
       "      <td>Benign</td>\n",
       "      <td>0</td>\n",
       "    </tr>\n",
       "    <tr>\n",
       "      <th>4</th>\n",
       "      <td>physmem5.raw</td>\n",
       "      <td>mshta.exe                                     ...</td>\n",
       "      <td>The parent process is regsvr32.exe            ...</td>\n",
       "      <td>mshta.exe                                     ...</td>\n",
       "      <td>ADVAPI32.dll              COMCTL32.dll        ...</td>\n",
       "      <td>regsvr32.exe                                  ...</td>\n",
       "      <td>ADVAPI32.dll              COMCTL32.dll        ...</td>\n",
       "      <td>No unique services</td>\n",
       "      <td>regsvr32.exe executed the Command line : regsv...</td>\n",
       "      <td>Fileless</td>\n",
       "      <td>1</td>\n",
       "    </tr>\n",
       "  </tbody>\n",
       "</table>\n",
       "</div>"
      ],
      "text/plain": [
       "           Name                                             pslist  \\\n",
       "0   physmem.raw  proforma invoice and bank swift-reg.pi-0086547...   \n",
       "1  physmem2.raw  System                                        ...   \n",
       "2  physmem3.raw  proforma invoice and bank swift-reg.pi-0086547...   \n",
       "3  physmem4.raw  System                                        ...   \n",
       "4  physmem5.raw  mshta.exe                                     ...   \n",
       "\n",
       "                                              pstree  \\\n",
       "0  The parent process is proforma invoice and ban...   \n",
       "1  The parent process is System                  ...   \n",
       "2  The parent process is proforma invoice and ban...   \n",
       "3  The parent process is System                  ...   \n",
       "4  The parent process is regsvr32.exe            ...   \n",
       "\n",
       "                                             psxview  \\\n",
       "0  proforma invoice and bank swift-reg.pi-0086547...   \n",
       "1  System                                        ...   \n",
       "2  proforma invoice and bank swift-reg.pi-0086547...   \n",
       "3  System                                        ...   \n",
       "4  mshta.exe                                     ...   \n",
       "\n",
       "                                             dlllist  \\\n",
       "0  ADVAPI32.dll            KERNEL32.dll          ...   \n",
       "1  ADVAPI32.dll            KERNEL32.dll          ...   \n",
       "2  ADVAPI32.dll            KERNEL32.dll          ...   \n",
       "3  ADVAPI32.dll            KERNEL32.dll          ...   \n",
       "4  ADVAPI32.dll              COMCTL32.dll        ...   \n",
       "\n",
       "                                             handles  \\\n",
       "0  proforma invoice and bank swift-reg.pi-0086547...   \n",
       "1  System                                        ...   \n",
       "2  proforma invoice and bank swift-reg.pi-0086547...   \n",
       "3  System                                        ...   \n",
       "4  regsvr32.exe                                  ...   \n",
       "\n",
       "                                          ldrmodules  \\\n",
       "0  ADVAPI32.dll            KERNEL32.dll          ...   \n",
       "1  ADVAPI32.dll            KERNEL32.dll          ...   \n",
       "2  ADVAPI32.dll            KERNEL32.dll          ...   \n",
       "3  ADVAPI32.dll            KERNEL32.dll          ...   \n",
       "4  ADVAPI32.dll              COMCTL32.dll        ...   \n",
       "\n",
       "                                             svcscan  \\\n",
       "0  vssvc.exe                               wbengi...   \n",
       "1  SamSs                                         ...   \n",
       "2  vssvc.exe                               wbengi...   \n",
       "3  SamSs                                         ...   \n",
       "4                                 No unique services   \n",
       "\n",
       "                                             cmdline  Category  label  \n",
       "0  proforma invoice and bank swift-reg.pi-0086547...  Fileless      1  \n",
       "1  smss.exe executed the Command line :  \\SystemR...    Benign      0  \n",
       "2  proforma invoice and bank swift-reg.pi-0086547...  Fileless      1  \n",
       "3  smss.exe executed the Command line :  \\SystemR...    Benign      0  \n",
       "4  regsvr32.exe executed the Command line : regsv...  Fileless      1  "
      ]
     },
     "execution_count": 13,
     "metadata": {},
     "output_type": "execute_result"
    }
   ],
   "source": [
    "df.head()"
   ]
  },
  {
   "cell_type": "markdown",
   "metadata": {},
   "source": [
    "# Split Data Train and Test"
   ]
  },
  {
   "cell_type": "code",
   "execution_count": 14,
   "metadata": {},
   "outputs": [],
   "source": [
    "from sklearn.model_selection import train_test_split"
   ]
  },
  {
   "cell_type": "code",
   "execution_count": 15,
   "metadata": {},
   "outputs": [],
   "source": [
    "df_train,df_test = train_test_split(df,test_size=test_size, stratify=df['Category'])"
   ]
  },
  {
   "cell_type": "code",
   "execution_count": 16,
   "metadata": {},
   "outputs": [],
   "source": [
    "test_features = df_test.drop(columns=['Category', 'label'])"
   ]
  },
  {
   "cell_type": "code",
   "execution_count": 17,
   "metadata": {},
   "outputs": [
    {
     "name": "stderr",
     "output_type": "stream",
     "text": [
      "c:\\Users\\Chris Laptop\\AppData\\Local\\Programs\\Python\\Python311\\Lib\\site-packages\\tqdm\\auto.py:21: TqdmWarning: IProgress not found. Please update jupyter and ipywidgets. See https://ipywidgets.readthedocs.io/en/stable/user_install.html\n",
      "  from .autonotebook import tqdm as notebook_tqdm\n"
     ]
    }
   ],
   "source": [
    "from datasets import Dataset"
   ]
  },
  {
   "cell_type": "code",
   "execution_count": 18,
   "metadata": {},
   "outputs": [],
   "source": [
    "train_dataset = Dataset.from_pandas(df_train)\n",
    "test_dataset = Dataset.from_pandas(test_features)"
   ]
  },
  {
   "cell_type": "markdown",
   "metadata": {},
   "source": [
    "# Tokenize All Columns"
   ]
  },
  {
   "cell_type": "code",
   "execution_count": 19,
   "metadata": {},
   "outputs": [],
   "source": [
    "from transformers import AutoTokenizer"
   ]
  },
  {
   "cell_type": "code",
   "execution_count": 20,
   "metadata": {},
   "outputs": [],
   "source": [
    "tokenizer = AutoTokenizer.from_pretrained(model_name)\n",
    "\n",
    "def preprocess_function(examples):\n",
    "    combined_texts = []\n",
    "    for Name,pslist,pstree,psxview,dlllist,handles,ldrmodules,svcscan,cmdline in zip(\n",
    "        examples[\"Name\"], examples[\"pslist\"], examples[\"pstree\"], examples[\"psxview\"], examples[\"dlllist\"], examples[\"handles\"], examples[\"ldrmodules\"], examples[\"svcscan\"], examples[\"cmdline\"]  \n",
    "    ):\n",
    "        combined_text = f\"{Name} {pslist} {pstree} {psxview} {dlllist} {handles} {ldrmodules} {svcscan} {cmdline}  \"\n",
    "        combined_texts.append(combined_text)\n",
    "\n",
    "\n",
    "    encoding = tokenizer(\n",
    "        combined_texts,\n",
    "        padding = 'max_length',\n",
    "        truncation = True,\n",
    "        return_tensors = None,\n",
    "        return_attention_mask=True,\n",
    "        return_token_type_ids=True\n",
    "    )\n",
    "    \n",
    "    return {\n",
    "        'input_ids': encoding['input_ids'],\n",
    "        'attention_mask': encoding['attention_mask'],\n",
    "        'token_type_ids': encoding.get('token_type_ids', [None] * len(combined_texts))                     \n",
    "    } "
   ]
  },
  {
   "cell_type": "code",
   "execution_count": 21,
   "metadata": {},
   "outputs": [
    {
     "name": "stderr",
     "output_type": "stream",
     "text": [
      "Map: 100%|██████████| 47/47 [00:00<00:00, 1134.42 examples/s]\n"
     ]
    }
   ],
   "source": [
    "tokenized_train = train_dataset.map(preprocess_function, batched=True)"
   ]
  },
  {
   "cell_type": "code",
   "execution_count": 22,
   "metadata": {},
   "outputs": [
    {
     "name": "stderr",
     "output_type": "stream",
     "text": [
      "Map: 100%|██████████| 12/12 [00:00<00:00, 1035.08 examples/s]\n"
     ]
    }
   ],
   "source": [
    "tokenized_test = test_dataset.map(preprocess_function, batched=True)"
   ]
  },
  {
   "cell_type": "markdown",
   "metadata": {},
   "source": [
    "# Label Encoding Training"
   ]
  },
  {
   "cell_type": "code",
   "execution_count": 23,
   "metadata": {},
   "outputs": [],
   "source": [
    "from transformers import AutoModelForSequenceClassification"
   ]
  },
  {
   "cell_type": "code",
   "execution_count": 24,
   "metadata": {},
   "outputs": [],
   "source": [
    "id2label = {0: \"Benign\", 1: \"Fileless\"}\n",
    "label2id = {\"Benign\": 0, \"Fileless\": 1}"
   ]
  },
  {
   "cell_type": "code",
   "execution_count": 25,
   "metadata": {},
   "outputs": [
    {
     "name": "stderr",
     "output_type": "stream",
     "text": [
      "Some weights of RobertaForSequenceClassification were not initialized from the model checkpoint at ehsanaghaei/SecureBERT and are newly initialized: ['classifier.dense.bias', 'classifier.dense.weight', 'classifier.out_proj.bias', 'classifier.out_proj.weight']\n",
      "You should probably TRAIN this model on a down-stream task to be able to use it for predictions and inference.\n"
     ]
    }
   ],
   "source": [
    "model = AutoModelForSequenceClassification.from_pretrained(model_name, num_labels=2, id2label=id2label, label2id=label2id)"
   ]
  },
  {
   "cell_type": "markdown",
   "metadata": {},
   "source": [
    "# Training Model"
   ]
  },
  {
   "cell_type": "code",
   "execution_count": 26,
   "metadata": {},
   "outputs": [],
   "source": [
    "from transformers import DataCollatorWithPadding\n",
    "from transformers import TrainingArguments, Trainer\n",
    "import evaluate\n",
    "import numpy as np"
   ]
  },
  {
   "cell_type": "code",
   "execution_count": 27,
   "metadata": {},
   "outputs": [],
   "source": [
    "data_collator = DataCollatorWithPadding(tokenizer=tokenizer)"
   ]
  },
  {
   "cell_type": "code",
   "execution_count": 28,
   "metadata": {},
   "outputs": [],
   "source": [
    "metric = evaluate.load(\"accuracy\")\n",
    "\n",
    "def compute_metrics(eval_pred):\n",
    "    logits, labels = eval_pred\n",
    "    predictions = np.argmax(logits, axis=1)\n",
    "    return metric.compute(predictions=predictions, references=labels)"
   ]
  },
  {
   "cell_type": "code",
   "execution_count": 29,
   "metadata": {},
   "outputs": [
    {
     "name": "stdout",
     "output_type": "stream",
     "text": [
      "Requirement already satisfied: accelerate in c:\\users\\chris laptop\\appdata\\local\\programs\\python\\python311\\lib\\site-packages (0.33.0)\n",
      "Requirement already satisfied: numpy<2.0.0,>=1.17 in c:\\users\\chris laptop\\appdata\\local\\programs\\python\\python311\\lib\\site-packages (from accelerate) (1.26.4)\n",
      "Requirement already satisfied: packaging>=20.0 in c:\\users\\chris laptop\\appdata\\local\\programs\\python\\python311\\lib\\site-packages (from accelerate) (24.0)\n",
      "Requirement already satisfied: psutil in c:\\users\\chris laptop\\appdata\\roaming\\python\\python311\\site-packages (from accelerate) (5.9.8)\n",
      "Requirement already satisfied: pyyaml in c:\\users\\chris laptop\\appdata\\local\\programs\\python\\python311\\lib\\site-packages (from accelerate) (6.0.1)\n",
      "Requirement already satisfied: torch>=1.10.0 in c:\\users\\chris laptop\\appdata\\local\\programs\\python\\python311\\lib\\site-packages (from accelerate) (2.2.1)\n",
      "Requirement already satisfied: huggingface-hub>=0.21.0 in c:\\users\\chris laptop\\appdata\\local\\programs\\python\\python311\\lib\\site-packages (from accelerate) (0.21.4)\n",
      "Requirement already satisfied: safetensors>=0.3.1 in c:\\users\\chris laptop\\appdata\\local\\programs\\python\\python311\\lib\\site-packages (from accelerate) (0.4.2)\n",
      "Requirement already satisfied: filelock in c:\\users\\chris laptop\\appdata\\local\\programs\\python\\python311\\lib\\site-packages (from huggingface-hub>=0.21.0->accelerate) (3.13.1)\n",
      "Requirement already satisfied: fsspec>=2023.5.0 in c:\\users\\chris laptop\\appdata\\local\\programs\\python\\python311\\lib\\site-packages (from huggingface-hub>=0.21.0->accelerate) (2024.3.1)\n",
      "Requirement already satisfied: requests in c:\\users\\chris laptop\\appdata\\local\\programs\\python\\python311\\lib\\site-packages (from huggingface-hub>=0.21.0->accelerate) (2.31.0)\n",
      "Requirement already satisfied: tqdm>=4.42.1 in c:\\users\\chris laptop\\appdata\\local\\programs\\python\\python311\\lib\\site-packages (from huggingface-hub>=0.21.0->accelerate) (4.66.2)\n",
      "Requirement already satisfied: typing-extensions>=3.7.4.3 in c:\\users\\chris laptop\\appdata\\local\\programs\\python\\python311\\lib\\site-packages (from huggingface-hub>=0.21.0->accelerate) (4.10.0)\n",
      "Requirement already satisfied: sympy in c:\\users\\chris laptop\\appdata\\local\\programs\\python\\python311\\lib\\site-packages (from torch>=1.10.0->accelerate) (1.12)\n",
      "Requirement already satisfied: networkx in c:\\users\\chris laptop\\appdata\\local\\programs\\python\\python311\\lib\\site-packages (from torch>=1.10.0->accelerate) (3.2.1)\n",
      "Requirement already satisfied: jinja2 in c:\\users\\chris laptop\\appdata\\local\\programs\\python\\python311\\lib\\site-packages (from torch>=1.10.0->accelerate) (3.1.3)\n",
      "Requirement already satisfied: colorama in c:\\users\\chris laptop\\appdata\\local\\programs\\python\\python311\\lib\\site-packages (from tqdm>=4.42.1->huggingface-hub>=0.21.0->accelerate) (0.4.6)\n",
      "Requirement already satisfied: MarkupSafe>=2.0 in c:\\users\\chris laptop\\appdata\\local\\programs\\python\\python311\\lib\\site-packages (from jinja2->torch>=1.10.0->accelerate) (2.1.5)\n",
      "Requirement already satisfied: charset-normalizer<4,>=2 in c:\\users\\chris laptop\\appdata\\local\\programs\\python\\python311\\lib\\site-packages (from requests->huggingface-hub>=0.21.0->accelerate) (3.3.2)\n",
      "Requirement already satisfied: idna<4,>=2.5 in c:\\users\\chris laptop\\appdata\\local\\programs\\python\\python311\\lib\\site-packages (from requests->huggingface-hub>=0.21.0->accelerate) (3.6)\n",
      "Requirement already satisfied: urllib3<3,>=1.21.1 in c:\\users\\chris laptop\\appdata\\local\\programs\\python\\python311\\lib\\site-packages (from requests->huggingface-hub>=0.21.0->accelerate) (2.2.1)\n",
      "Requirement already satisfied: certifi>=2017.4.17 in c:\\users\\chris laptop\\appdata\\local\\programs\\python\\python311\\lib\\site-packages (from requests->huggingface-hub>=0.21.0->accelerate) (2024.2.2)\n",
      "Requirement already satisfied: mpmath>=0.19 in c:\\users\\chris laptop\\appdata\\local\\programs\\python\\python311\\lib\\site-packages (from sympy->torch>=1.10.0->accelerate) (1.3.0)\n",
      "Note: you may need to restart the kernel to use updated packages.\n"
     ]
    },
    {
     "name": "stderr",
     "output_type": "stream",
     "text": [
      "\n",
      "[notice] A new release of pip available: 22.3.1 -> 24.2\n",
      "[notice] To update, run: python.exe -m pip install --upgrade pip\n"
     ]
    }
   ],
   "source": [
    "pip install accelerate -U"
   ]
  },
  {
   "cell_type": "code",
   "execution_count": 30,
   "metadata": {},
   "outputs": [
    {
     "name": "stderr",
     "output_type": "stream",
     "text": [
      "c:\\Users\\Chris Laptop\\AppData\\Local\\Programs\\Python\\Python311\\Lib\\site-packages\\accelerate\\accelerator.py:451: FutureWarning: Passing the following arguments to `Accelerator` is deprecated and will be removed in version 1.0 of Accelerate: dict_keys(['dispatch_batches', 'split_batches', 'even_batches', 'use_seedable_sampler']). Please pass an `accelerate.DataLoaderConfiguration` instead: \n",
      "dataloader_config = DataLoaderConfiguration(dispatch_batches=None, split_batches=False, even_batches=True, use_seedable_sampler=True)\n",
      "  warnings.warn(\n"
     ]
    }
   ],
   "source": [
    "training_args = TrainingArguments(\n",
    "    output_dir=\"./result\",\n",
    "    learning_rate=2e-5,\n",
    "    per_device_train_batch_size=12,\n",
    "    per_device_eval_batch_size=12,\n",
    "    num_train_epochs=5,\n",
    "    weight_decay=0.01,\n",
    "    evaluation_strategy = \"epoch\",\n",
    "    logging_strategy=\"epoch\",\n",
    ")\n",
    "\n",
    "trainer = Trainer(\n",
    "    model=model,\n",
    "    args=training_args,\n",
    "    train_dataset=tokenized_train,\n",
    "    eval_dataset=tokenized_test,\n",
    "    tokenizer=tokenizer,\n",
    "    data_collator=data_collator,\n",
    "    compute_metrics=compute_metrics\n",
    "\n",
    ")\n"
   ]
  },
  {
   "cell_type": "code",
   "execution_count": 31,
   "metadata": {},
   "outputs": [
    {
     "name": "stderr",
     "output_type": "stream",
     "text": [
      " 20%|██        | 4/20 [01:18<04:58, 18.64s/it]"
     ]
    },
    {
     "name": "stdout",
     "output_type": "stream",
     "text": [
      "{'loss': 0.6858, 'grad_norm': 0.8162668943405151, 'learning_rate': 1.6000000000000003e-05, 'epoch': 1.0}\n"
     ]
    },
    {
     "name": "stderr",
     "output_type": "stream",
     "text": [
      "                                              \n",
      " 20%|██        | 4/20 [01:25<04:58, 18.64s/it]"
     ]
    },
    {
     "name": "stdout",
     "output_type": "stream",
     "text": [
      "{'eval_runtime': 6.9775, 'eval_samples_per_second': 1.72, 'eval_steps_per_second': 0.143, 'epoch': 1.0}\n"
     ]
    },
    {
     "name": "stderr",
     "output_type": "stream",
     "text": [
      " 40%|████      | 8/20 [02:37<03:37, 18.16s/it]"
     ]
    },
    {
     "name": "stdout",
     "output_type": "stream",
     "text": [
      "{'loss': 0.6434, 'grad_norm': 5.854454517364502, 'learning_rate': 1.2e-05, 'epoch': 2.0}\n"
     ]
    },
    {
     "name": "stderr",
     "output_type": "stream",
     "text": [
      "                                              \n",
      " 40%|████      | 8/20 [02:44<03:37, 18.16s/it]"
     ]
    },
    {
     "name": "stdout",
     "output_type": "stream",
     "text": [
      "{'eval_runtime': 7.1087, 'eval_samples_per_second': 1.688, 'eval_steps_per_second': 0.141, 'epoch': 2.0}\n"
     ]
    },
    {
     "name": "stderr",
     "output_type": "stream",
     "text": [
      " 60%|██████    | 12/20 [03:53<02:25, 18.18s/it]"
     ]
    },
    {
     "name": "stdout",
     "output_type": "stream",
     "text": [
      "{'loss': 0.4838, 'grad_norm': 8.487039566040039, 'learning_rate': 8.000000000000001e-06, 'epoch': 3.0}\n"
     ]
    },
    {
     "name": "stderr",
     "output_type": "stream",
     "text": [
      "                                               \n",
      " 60%|██████    | 12/20 [04:00<02:25, 18.18s/it]"
     ]
    },
    {
     "name": "stdout",
     "output_type": "stream",
     "text": [
      "{'eval_runtime': 7.8364, 'eval_samples_per_second': 1.531, 'eval_steps_per_second': 0.128, 'epoch': 3.0}\n"
     ]
    },
    {
     "name": "stderr",
     "output_type": "stream",
     "text": [
      " 80%|████████  | 16/20 [05:10<01:12, 18.20s/it]"
     ]
    },
    {
     "name": "stdout",
     "output_type": "stream",
     "text": [
      "{'loss': 0.4684, 'grad_norm': 4.533602237701416, 'learning_rate': 4.000000000000001e-06, 'epoch': 4.0}\n"
     ]
    },
    {
     "name": "stderr",
     "output_type": "stream",
     "text": [
      "                                               \n",
      " 80%|████████  | 16/20 [05:17<01:12, 18.20s/it]"
     ]
    },
    {
     "name": "stdout",
     "output_type": "stream",
     "text": [
      "{'eval_runtime': 6.8799, 'eval_samples_per_second': 1.744, 'eval_steps_per_second': 0.145, 'epoch': 4.0}\n"
     ]
    },
    {
     "name": "stderr",
     "output_type": "stream",
     "text": [
      "100%|██████████| 20/20 [06:20<00:00, 16.80s/it]"
     ]
    },
    {
     "name": "stdout",
     "output_type": "stream",
     "text": [
      "{'loss': 0.4358, 'grad_norm': 3.666707992553711, 'learning_rate': 0.0, 'epoch': 5.0}\n"
     ]
    },
    {
     "name": "stderr",
     "output_type": "stream",
     "text": [
      "                                               \n",
      "100%|██████████| 20/20 [06:27<00:00, 19.36s/it]"
     ]
    },
    {
     "name": "stdout",
     "output_type": "stream",
     "text": [
      "{'eval_runtime': 6.8131, 'eval_samples_per_second': 1.761, 'eval_steps_per_second': 0.147, 'epoch': 5.0}\n",
      "{'train_runtime': 387.1023, 'train_samples_per_second': 0.607, 'train_steps_per_second': 0.052, 'train_loss': 0.5434446930885315, 'epoch': 5.0}\n"
     ]
    },
    {
     "name": "stderr",
     "output_type": "stream",
     "text": [
      "\n"
     ]
    },
    {
     "data": {
      "text/plain": [
       "TrainOutput(global_step=20, training_loss=0.5434446930885315, metrics={'train_runtime': 387.1023, 'train_samples_per_second': 0.607, 'train_steps_per_second': 0.052, 'train_loss': 0.5434446930885315, 'epoch': 5.0})"
      ]
     },
     "execution_count": 31,
     "metadata": {},
     "output_type": "execute_result"
    }
   ],
   "source": [
    "trainer.train()"
   ]
  },
  {
   "cell_type": "code",
   "execution_count": 32,
   "metadata": {},
   "outputs": [],
   "source": [
    "trainer.save_model('Fileless')"
   ]
  },
  {
   "cell_type": "code",
   "execution_count": 40,
   "metadata": {},
   "outputs": [
    {
     "name": "stdout",
     "output_type": "stream",
     "text": [
      "{'Name': ['physmem49.raw', 'physmem3.raw', 'physmem26.raw', 'physmem55.raw', 'physmem22.raw', 'physmem11.raw', 'physmem6.raw', 'physmem16.raw', 'physmem43.raw', 'physmem58.raw', 'physmem54.raw'], 'pslist': ['System                                                    smss.exe                                            wininit.exe                                         Runtimebroker.exe                     taskhostw.exe                                 winlogon.exe                                    csrss.exe                                            service.exe                                      svchost.exe                                                                              lsass.exe                                              explorer.exe  ', 'proforma invoice and bank swift-reg.pi-0086547654.exe @WanaDecryptor.exe                                                                                                   @WanaDecryptor.exe                                                                                                   taskhsvc.exe                                                                                                        taskse.exe                                                                                                                     cmd.exe  ', 'No unique processes', 'System                                                    smss.exe                                            wininit.exe                                         Runtimebroker.exe                     taskhostw.exe                                 winlogon.exe                                    csrss.exe                                            service.exe                                      svchost.exe                                                                               lsass.exe                                              explorer.exe  ', 'No unique processes', 'Grandcrab.exe', 'System                                                    smss.exe                                            wininit.exe                                         Runtimebroker.exe                     taskhostw.exe                                 winlogon.exe                                    csrss.exe                                            service.exe                                      svchost.exe                                                                                   lsass.exe                                              explorer.exe  ', 'System                                                    smss.exe                                            wininit.exe                                         Runtimebroker.exe                     taskhostw.exe                                 winlogon.exe                                    csrss.exe                                            service.exe                                      svchost.exe                                                                                   lsass.exe                                              explorer.exe  ', 'System                                                    smss.exe                                            wininit.exe                                         Runtimebroker.exe                     taskhostw.exe                                 winlogon.exe                                    csrss.exe                                            service.exe                                      svchost.exe                                                                                   lsass.exe                                              explorer.exe  ', 'onenote.exe                              printfilterpipelinesvc.exe        shellexperiencehost.exe         splwow64.exe  ', 'unsecapp.exe                                                                                                                                         svchost.exe 3e6a72b0f67784 '], 'pstree': ['The parent process is System                                                                                                                                             The child process of System is smss.exe                                                                                                                                                                                                                                                                                    The parent process is smss.exe                                                                                                                                                                          The child process of  smss.exe is wininit.exe                                                                                                          The parent process is svchost.exe                                                                                                                                                                         The child process of svchost.exe is RuntimeBroker.exe                                                                              The parent process is svchost.exe                                                                                                                                                                         The child process of svchost.exe is taskhostw.exe                                                                                                              The parent process is smsss.exe                                                                                                                                                                        The child process of smss.exe is winlogon.exe                                                                                                    The parent process is smss.exe                                                                                                                                       The child process of smss.exe is csrss.exe                                                                                                                 The parent process is service.exe                                                                                                                                   The child process of service.exe is svchost.exe                                                                                                                                                                                                            The parent process is wininit.exe                                                                                                                                       The child process of wininit.exe is lsass.exe                                                                                                               The parent process is userinit.exe                                                                                                                                    The child process of userinit.exe is explorer.exe ', 'The parent process is proforma invoice and bank swift-reg.pi-0086547654.exe                                                                 The child process of proforma invoice and bank swift-reg.pi-0086547654.exe is @WannaDecryptor.exe                                                                                                                                                                                                                             The child process of proforma invoice and bank swift-reg.pi-0086547654.exe is taskse.exe                                                                                                                                                                                        The child process of  process is proforma invoice and bank swift-reg.pi-0086547654.exe is taskhsvc.exe                                                                                                                                                                                                                        The parent process is cmd.exe                                                                                                                                                                               The child process of cmd.exe is taskhsvc.exe  ', 'No unique parent and child processes', 'The parent process is System                                                                                                                                             The child process of System is smss.exe                                                                                                                                                                                                                                                                                    The parent process is smss.exe                                                                                                                                                                          The child process of  smss.exe is wininit.exe                                                                                                          The parent process is svchost.exe                                                                                                                                                                         The child process of svchost.exe is RuntimeBroker.exe                                                                              The parent process is svchost.exe                                                                                                                                                                         The child process of svchost.exe is taskhostw.exe                                                                                                              The parent process is smsss.exe                                                                                                                                                                        The child process of smss.exe is winlogon.exe                                                                                                    The parent process is smss.exe                                                                                                                                       The child process of smss.exe is csrss.exe                                                                                                                 The parent process is service.exe                                                                                                                                   The child process of service.exe is svchost.exe                                                                                                                                                                                                               The parent process is wininit.exe                                                                                                                                       The child process of wininit.exe is lsass.exe                                                                                                               The parent process is userinit.exe                                                                                                                                    The child process of userinit.exe is explorer.exe ', 'No unique parent and child processes', 'No unique parent and child processes', 'The parent process is System                                                                                                                                             The child process of System is smss.exe                                                                                                                                                                                                                                                                                    The parent process is smss.exe                                                                                                                                                                          The child process of  smss.exe is wininit.exe                                                                                                          The parent process is svchost.exe                                                                                                                                                                         The child process of svchost.exe is RuntimeBroker.exe                                                                              The parent process is svchost.exe                                                                                                                                                                         The child process of svchost.exe is taskhostw.exe                                                                                                              The parent process is smsss.exe                                                                                                                                                                        The child process of smss.exe is winlogon.exe                                                                                                    The parent process is smss.exe                                                                                                                                       The child process of smss.exe is csrss.exe                                                                                                                 The parent process is service.exe                                                                                                                                   The child process of service.exe is svchost.exe                                                                                                                                                                                                           The parent process is wininit.exe                                                                                                                                       The child process of wininit.exe is lsass.exe                                                                                                               The parent process is userinit.exe                                                                                                                                    The child process of userinit.exe is explorer.exe   ', 'The parent process is System                                                                                                                                             The child process of System is smss.exe                                                                                                                                                                                                                                                                                    The parent process is smss.exe                                                                                                                                                                          The child process of  smss.exe is wininit.exe                                                                                                          The parent process is svchost.exe                                                                                                                                                                         The child process of svchost.exe is RuntimeBroker.exe                                                                              The parent process is svchost.exe                                                                                                                                                                         The child process of svchost.exe is taskhostw.exe                                                                                                              The parent process is smsss.exe                                                                                                                                                                        The child process of smss.exe is winlogon.exe                                                                                                    The parent process is smss.exe                                                                                                                                       The child process of smss.exe is csrss.exe                                                                                                                 The parent process is service.exe                                                                                                                                   The child process of service.exe is svchost.exe                                                                                                                                                                                                            The parent process is wininit.exe                                                                                                                                       The child process of wininit.exe is lsass.exe                                                                                                               The parent process is userinit.exe                                                                                                                                    The child process of userinit.exe is explorer.exe   ', 'The parent process is System                                                                                                                                             The child process of System is smss.exe                                                                                                                                                                                                                                                                                    The parent process is smss.exe                                                                                                                                                                          The child process of  smss.exe is wininit.exe                                                                                                          The parent process is svchost.exe                                                                                                                                                                         The child process of svchost.exe is RuntimeBroker.exe                                                                              The parent process is svchost.exe                                                                                                                                                                         The child process of svchost.exe is taskhostw.exe                                                                                                              The parent process is smsss.exe                                                                                                                                                                        The child process of smss.exe is winlogon.exe                                                                                                    The parent process is smss.exe                                                                                                                                       The child process of smss.exe is csrss.exe                                                                                                                 The parent process is service.exe                                                                                                                                   The child process of service.exe is svchost.exe                                                                                                                                                                                                        The parent process is wininit.exe                                                                                                                                       The child process of wininit.exe is lsass.exe                                                                                                               The parent process is userinit.exe                                                                                                                                    The child process of userinit.exe is explorer.exe ', 'The parent process is lockbit_3.0_unpacked.exe                                                                                                                         The child process of lockbit_3.0_unpacked.exe is splwow64.exe                                                               The parent process is printfilterpipelinesvc.exe                                                                                               The child process of printfilterpipelinesvc.exe is onenote.exe', 'The parent process is svchost.exe                                                                                                                                                                The child process of svchost.exe is unsecapp.exe'], 'psxview': ['System                                                    smss.exe                                            wininit.exe                                         Runtimebroker.exe                     taskhostw.exe                                 winlogon.exe                                    csrss.exe                                            service.exe                                      svchost.exe                                                                                   lsass.exe                                              explorer.exe ', 'proforma invoice and bank swift-reg.pi-0086547654.exe @WanaDecryptor.exe                                                                                                   @WanaDecryptor.exe                                                                                                   taskhsvc.exe                                                                                                        taskse.exe    ', 'No unique hidden processes', 'System                                                    smss.exe                                            wininit.exe                                         Runtimebroker.exe                     taskhostw.exe                                 winlogon.exe                                    csrss.exe                                            service.exe                                      svchost.exe                                                                                   lsass.exe                                              explorer.exe ', 'No unique hidden processes', 'No unique hidden processes', 'System                                                    smss.exe                                            wininit.exe                                         Runtimebroker.exe                     taskhostw.exe                                 winlogon.exe                                    csrss.exe                                            service.exe                                      svchost.exe                                                                                   lsass.exe                                              explorer.exe     ', 'System                                                    smss.exe                                            wininit.exe                                         Runtimebroker.exe                     taskhostw.exe                                 winlogon.exe                                    csrss.exe                                            service.exe                                      svchost.exe                                                                                   lsass.exe                                              explorer.exe    ', 'System                                                    smss.exe                                            wininit.exe                                         Runtimebroker.exe                     taskhostw.exe                                 winlogon.exe                                    csrss.exe                                            service.exe                                      svchost.exe                                                                                   lsass.exe                                              explorer.exe ', 'splwow64.exe                                                    shellexperiencehost.exe                              onenote.exe       ', 'unsecapp.exe                                                                                                                                         svchost.exe'], 'dlllist': ['ADVAPI32.dll            KERNEL32.dll                               USER32.dll                              ntdll.dll   ', 'ADVAPI32.dll            KERNEL32.dll            MSVCRT.dll                     USER32.dll      ', 'ADVAPI32.dll               KERNEL32.dll                 MSVCRT.dll                 SHELL32.dll                    SHLWAPI.dll              USER32.dll                 WININET.dll                  ntdll.dll                             ole32.dll', 'ADVAPI32.dll            KERNEL32.dll                               USER32.dll                              ntdll.dll   ', 'No unique dllls', 'KERNEL32.dll             USER32.dll                       ole32.dll ', 'ADVAPI32.dll            KERNEL32.dll                               USER32.dll                              ntdll.dll      ', 'ADVAPI32.dll            KERNEL32.dll                               USER32.dll                              ntdll.dll      ', 'ADVAPI32.dll            KERNEL32.dll                               USER32.dll                              ntdll.dll      ', 'No unique dllls', 'KERNEL32.dll\\nMSIMG32.dll'], 'handles': ['System                                                    smss.exe                                            wininit.exe                                         Runtimebroker.exe                     taskhostw.exe                                 winlogon.exe                                    csrss.exe                                            service.exe                                      svchost.exe                                                                                   lsass.exe                                              explorer.exe  ', 'proforma invoice and bank swift-reg.pi-0086547654.exe @WanaDecryptor.exe                                                                                                   @WanaDecryptor.exe                                                                                                   taskhsvc.exe                                                                                                        taskse.exe     ', 'No unique handles', 'System                                                    smss.exe                                            wininit.exe                                         Runtimebroker.exe                     taskhostw.exe                                 winlogon.exe                                    csrss.exe                                            service.exe                                      svchost.exe                                                                                   lsass.exe                                              explorer.exe  ', 'No unique handles', 'No unique handles', 'System                                                    smss.exe                                            wininit.exe                                         Runtimebroker.exe                     taskhostw.exe                                 winlogon.exe                                    csrss.exe                                            service.exe                                      svchost.exe                                                                                   lsass.exe                                              explorer.exe ', 'System                                                    smss.exe                                            wininit.exe                                         Runtimebroker.exe                     taskhostw.exe                                 winlogon.exe                                    csrss.exe                                            service.exe                                      svchost.exe                                                                                   lsass.exe                                              explorer.exe    ', 'System                                                    smss.exe                                            wininit.exe                                         Runtimebroker.exe                     taskhostw.exe                                 winlogon.exe                                    csrss.exe                                            service.exe                                      svchost.exe                                                                                   lsass.exe                                              explorer.exe  ', 'onenote.exe                              printfilterpipelinesvc.exe        shellexperiencehost.exe         splwow64.exe  ', 'unsecapp.exe                                                                                                                                         svchost.exe'], 'ldrmodules': ['ADVAPI32.dll            KERNEL32.dll                               USER32.dll                              ntdll.dll      ', 'ADVAPI32.dll            KERNEL32.dll            MSVCRT.dll                     USER32.dll  ', 'ADVAPI32.dll               KERNEL32.dll                 MSVCRT.dll                 SHELL32.dll                    SHLWAPI.dll              USER32.dll                 WININET.dll                  ntdll.dll                             ole32.dll', 'ADVAPI32.dll            KERNEL32.dll                               USER32.dll                              ntdll.dll      ', 'No unique ldrmodules', 'KERNEL32.dll             USER32.dll                       ole32.dll ', 'ADVAPI32.dll            KERNEL32.dll                               USER32.dll                              ntdll.dll      ', 'ADVAPI32.dll            KERNEL32.dll                               USER32.dll                              ntdll.dll      ', 'ADVAPI32.dll            KERNEL32.dll                               USER32.dll                              ntdll.dll      ', 'No unique ldrmodules', 'KERNEL32.dll\\nMSIMG32.dll'], 'svcscan': ['SamSs                                                Keylso                                                 VaultSvc                                             Eventlog                                                  Task Scheduler', 'vssvc.exe                               wbengine.exe  ', 'No unique services', 'SamSs                                                Keylso                                                 VaultSvc                                             Eventlog                                                  Task Scheduler', 'No unique services', 'No unique services', 'SamSs                                                Keylso                                                 VaultSvc                                             Eventlog                                                  Task Scheduler', 'SamSs                                                Keylso                                                 VaultSvc                                             Eventlog                                                  Task Scheduler', 'SamSs                                                Keylso                                                 VaultSvc                                             Eventlog                                                  Task Scheduler', 'No unique services', 'vssvc.exe'], 'cmdline': ['smss.exe executed the Command line :  \\\\SystemRoot\\\\smss.exe                                                                      wininit.exe executed the Command line : wininit.exe                                                                                                 RuntimeBroker executed the Command line : C:\\\\Windows\\\\System32\\\\RuntimeBroker.exe -Embedding                                                                                                                                                                                                         taskhostwexe executed the Command line : taskhostw.exe {222A245B-E637-4AE9-A93F-A59CA119A75E}                                                                                                                                                                                   winlogon.exe executed the Command line : winlogon.exe                                                                                          csrss.exe executed the Command line : %SystemRoot%\\\\system32\\\\csrss.exe ObjectDirectory=\\\\Windows SharedSection=1024                                                                                                             services.exe executed the Command line : C:\\\\Windows\\\\system32\\\\services.exe                                 svchost.exe executed the Command line : C:\\\\Windows\\\\system32\\\\svchost.exe -k DcomLaunch -p                                                                                                                                                                                       lsass.exe executed the Command line : C:\\\\Windows\\\\system32\\\\lsass.exe                                                        explorer.exe executed the Command line : C:\\\\Windows\\\\Explorer.EXE', 'proforma invoice and bank swift-reg.pi-0086547654.exe executed the Command line : \"C:\\\\Users\\\\User\\\\Downloads\\\\Proforma Invoice and Bank swift-REG.PI-0086547654.exe\"                                                                                 @WanaDecryptor executed the Commnad line : @WanaDecryptor@.exe co                                                         \\ntaskhsvc.exe executed the Command line : TaskData\\\\Tor\\\\taskhsvc.exe                                                                                                                                                                      \\nconhost.exe executed the Command line :   \\\\??\\\\C:\\\\Windows\\\\system32\\\\conhost.exe 0x4                                                                                                   \\\\??\\\\C:                       \\n@WanaDecryptor executed the Command line : @WanaDecryptor@.exe         ', 'No unique commands run', 'smss.exe executed the Command line :  \\\\SystemRoot\\\\smss.exe                                                                      wininit.exe executed the Command line : wininit.exe                                                                                                 RuntimeBroker executed the Command line : C:\\\\Windows\\\\System32\\\\RuntimeBroker.exe -Embedding                                                                                                                                                                                                         taskhostwexe executed the Command line : taskhostw.exe {222A245B-E637-4AE9-A93F-A59CA119A75E}                                                                                                                                                                                   winlogon.exe executed the Command line : winlogon.exe                                                                                          csrss.exe executed the Command line : %SystemRoot%\\\\system32\\\\csrss.exe ObjectDirectory=\\\\Windows SharedSection=1024                                                                                                             services.exe executed the Command line : C:\\\\Windows\\\\system32\\\\services.exe                                 svchost.exe executed the Command line : C:\\\\Windows\\\\system32\\\\svchost.exe -k DcomLaunch -p                                                                                                                                                                                       lsass.exe executed the Command line : C:\\\\Windows\\\\system32\\\\lsass.exe                                                        explorer.exe executed the Command line : C:\\\\Windows\\\\Explorer.EXE', 'No unique commands run', 'No unique commands run', 'smss.exe executed the Command line :  \\\\SystemRoot\\\\smss.exe                                                                      wininit.exe executed the Command line : wininit.exe                                                                                                 RuntimeBroker executed the Command line : C:\\\\Windows\\\\System32\\\\RuntimeBroker.exe -Embedding                                                                                                                                                                                                         taskhostwexe executed the Command line : taskhostw.exe {222A245B-E637-4AE9-A93F-A59CA119A75E}                                                                                                                                                                                   winlogon.exe executed the Command line : winlogon.exe                                                                                          csrss.exe executed the Command line : %SystemRoot%\\\\system32\\\\csrss.exe ObjectDirectory=\\\\Windows SharedSection=1024                                                                                                             services.exe executed the Command line : C:\\\\Windows\\\\system32\\\\services.exe                                 svchost.exe executed the Command line : C:\\\\Windows\\\\system32\\\\svchost.exe -k DcomLaunch -p                                                                                                                                                                                       lsass.exe executed the Command line : C:\\\\Windows\\\\system32\\\\lsass.exe                                                        explorer.exe executed the Command line : C:\\\\Windows\\\\Explorer.EXE    ', 'smss.exe executed the Command line :  \\\\SystemRoot\\\\smss.exe                                                                      wininit.exe executed the Command line : wininit.exe                                                                                                 RuntimeBroker executed the Command line : C:\\\\Windows\\\\System32\\\\RuntimeBroker.exe -Embedding                                                                                                                                                                                                         taskhostwexe executed the Command line : taskhostw.exe {222A245B-E637-4AE9-A93F-A59CA119A75E}                                                                                                                                                                                   winlogon.exe executed the Command line : winlogon.exe                                                                                          csrss.exe executed the Command line : %SystemRoot%\\\\system32\\\\csrss.exe ObjectDirectory=\\\\Windows SharedSection=1024                                                                                                             services.exe executed the Command line : C:\\\\Windows\\\\system32\\\\services.exe                                 svchost.exe executed the Command line : C:\\\\Windows\\\\system32\\\\svchost.exe -k DcomLaunch -p                                                                                                                                                                                       lsass.exe executed the Command line : C:\\\\Windows\\\\system32\\\\lsass.exe                                                        explorer.exe executed the Command line : C:\\\\Windows\\\\Explorer.EXE    ', 'smss.exe executed the Command line :  \\\\SystemRoot\\\\smss.exe                                                                      wininit.exe executed the Command line : wininit.exe                                                                                                 RuntimeBroker executed the Command line : C:\\\\Windows\\\\System32\\\\RuntimeBroker.exe -Embedding                                                                                                                                                                                                         taskhostwexe executed the Command line : taskhostw.exe {222A245B-E637-4AE9-A93F-A59CA119A75E}                                                                                                                                                                                   winlogon.exe executed the Command line : winlogon.exe                                                                                          csrss.exe executed the Command line : %SystemRoot%\\\\system32\\\\csrss.exe ObjectDirectory=\\\\Windows SharedSection=1024                                                                                                             services.exe executed the Command line : C:\\\\Windows\\\\system32\\\\services.exe                                 svchost.exe executed the Command line : C:\\\\Windows\\\\system32\\\\svchost.exe -k DcomLaunch -p                                                                                                                                                                                       lsass.exe executed the Command line : C:\\\\Windows\\\\system32\\\\lsass.exe                                                        explorer.exe executed the Command line : C:\\\\Windows\\\\Explorer.EXE ', 'No unique commands run', 'unsecapp.exe executed the Command line : C:\\\\Windows\\\\system32\\\\wbem\\\\unsecapp.exe -Embedding                                                                                                                                                                                 svchost.exe executed the Command line : C:\\\\Windows\\\\system32\\\\svchost.exe -k wsappx -p -s AppXSvc\\nsvchost.exe executed the Command line : C:\\\\Windows\\\\system32\\\\svchost.exe -k appmodel -p -s camsvc                  '], '__index_level_0__': [48, 2, 25, 54, 21, 10, 5, 15, 42, 57, 53]}\n"
     ]
    }
   ],
   "source": [
    "print(test_dataset[:11])"
   ]
  },
  {
   "cell_type": "code",
   "execution_count": 34,
   "metadata": {},
   "outputs": [
    {
     "name": "stderr",
     "output_type": "stream",
     "text": [
      "100%|██████████| 1/1 [00:00<?, ?it/s]"
     ]
    },
    {
     "name": "stdout",
     "output_type": "stream",
     "text": [
      "[[ 1.4331344  -1.1038135 ]\n",
      " [ 0.01421198  0.01781194]\n",
      " [-0.00676695  0.05436731]\n",
      " [ 1.4253186  -1.099111  ]\n",
      " [-0.01891356  0.04829875]\n",
      " [-0.01386088  0.05171852]\n",
      " [ 1.483499   -1.1200228 ]\n",
      " [ 1.4812956  -1.1180806 ]\n",
      " [ 1.4809623  -1.1175802 ]\n",
      " [ 0.0035871   0.03552115]\n",
      " [ 0.03918713  0.00908704]\n",
      " [ 1.48162    -1.1192285 ]]\n"
     ]
    },
    {
     "name": "stderr",
     "output_type": "stream",
     "text": [
      "\n"
     ]
    }
   ],
   "source": [
    "# Get predictions\n",
    "predictions = trainer.predict(test_dataset=tokenized_test)\n",
    "\n",
    "# Print predictions\n",
    "print(predictions.predictions)\n"
   ]
  },
  {
   "cell_type": "markdown",
   "metadata": {},
   "source": [
    "# Results Training"
   ]
  },
  {
   "cell_type": "code",
   "execution_count": 35,
   "metadata": {},
   "outputs": [
    {
     "name": "stdout",
     "output_type": "stream",
     "text": [
      "Text: {'Name': 'physmem49.raw', 'pslist': 'System                                                    smss.exe                                            wininit.exe                                         Runtimebroker.exe                     taskhostw.exe                                 winlogon.exe                                    csrss.exe                                            service.exe                                      svchost.exe                                                                              lsass.exe                                              explorer.exe  ', 'pstree': 'The parent process is System                                                                                                                                             The child process of System is smss.exe                                                                                                                                                                                                                                                                                    The parent process is smss.exe                                                                                                                                                                          The child process of  smss.exe is wininit.exe                                                                                                          The parent process is svchost.exe                                                                                                                                                                         The child process of svchost.exe is RuntimeBroker.exe                                                                              The parent process is svchost.exe                                                                                                                                                                         The child process of svchost.exe is taskhostw.exe                                                                                                              The parent process is smsss.exe                                                                                                                                                                        The child process of smss.exe is winlogon.exe                                                                                                    The parent process is smss.exe                                                                                                                                       The child process of smss.exe is csrss.exe                                                                                                                 The parent process is service.exe                                                                                                                                   The child process of service.exe is svchost.exe                                                                                                                                                                                                            The parent process is wininit.exe                                                                                                                                       The child process of wininit.exe is lsass.exe                                                                                                               The parent process is userinit.exe                                                                                                                                    The child process of userinit.exe is explorer.exe ', 'psxview': 'System                                                    smss.exe                                            wininit.exe                                         Runtimebroker.exe                     taskhostw.exe                                 winlogon.exe                                    csrss.exe                                            service.exe                                      svchost.exe                                                                                   lsass.exe                                              explorer.exe ', 'dlllist': 'ADVAPI32.dll            KERNEL32.dll                               USER32.dll                              ntdll.dll   ', 'handles': 'System                                                    smss.exe                                            wininit.exe                                         Runtimebroker.exe                     taskhostw.exe                                 winlogon.exe                                    csrss.exe                                            service.exe                                      svchost.exe                                                                                   lsass.exe                                              explorer.exe  ', 'ldrmodules': 'ADVAPI32.dll            KERNEL32.dll                               USER32.dll                              ntdll.dll      ', 'svcscan': 'SamSs                                                Keylso                                                 VaultSvc                                             Eventlog                                                  Task Scheduler', 'cmdline': 'smss.exe executed the Command line :  \\\\SystemRoot\\\\smss.exe                                                                      wininit.exe executed the Command line : wininit.exe                                                                                                 RuntimeBroker executed the Command line : C:\\\\Windows\\\\System32\\\\RuntimeBroker.exe -Embedding                                                                                                                                                                                                         taskhostwexe executed the Command line : taskhostw.exe {222A245B-E637-4AE9-A93F-A59CA119A75E}                                                                                                                                                                                   winlogon.exe executed the Command line : winlogon.exe                                                                                          csrss.exe executed the Command line : %SystemRoot%\\\\system32\\\\csrss.exe ObjectDirectory=\\\\Windows SharedSection=1024                                                                                                             services.exe executed the Command line : C:\\\\Windows\\\\system32\\\\services.exe                                 svchost.exe executed the Command line : C:\\\\Windows\\\\system32\\\\svchost.exe -k DcomLaunch -p                                                                                                                                                                                       lsass.exe executed the Command line : C:\\\\Windows\\\\system32\\\\lsass.exe                                                        explorer.exe executed the Command line : C:\\\\Windows\\\\Explorer.EXE', '__index_level_0__': 48}\n",
      "Predicted Label: Benign\n",
      "\n",
      "Text: {'Name': 'physmem3.raw', 'pslist': 'proforma invoice and bank swift-reg.pi-0086547654.exe @WanaDecryptor.exe                                                                                                   @WanaDecryptor.exe                                                                                                   taskhsvc.exe                                                                                                        taskse.exe                                                                                                                     cmd.exe  ', 'pstree': 'The parent process is proforma invoice and bank swift-reg.pi-0086547654.exe                                                                 The child process of proforma invoice and bank swift-reg.pi-0086547654.exe is @WannaDecryptor.exe                                                                                                                                                                                                                             The child process of proforma invoice and bank swift-reg.pi-0086547654.exe is taskse.exe                                                                                                                                                                                        The child process of  process is proforma invoice and bank swift-reg.pi-0086547654.exe is taskhsvc.exe                                                                                                                                                                                                                        The parent process is cmd.exe                                                                                                                                                                               The child process of cmd.exe is taskhsvc.exe  ', 'psxview': 'proforma invoice and bank swift-reg.pi-0086547654.exe @WanaDecryptor.exe                                                                                                   @WanaDecryptor.exe                                                                                                   taskhsvc.exe                                                                                                        taskse.exe    ', 'dlllist': 'ADVAPI32.dll            KERNEL32.dll            MSVCRT.dll                     USER32.dll      ', 'handles': 'proforma invoice and bank swift-reg.pi-0086547654.exe @WanaDecryptor.exe                                                                                                   @WanaDecryptor.exe                                                                                                   taskhsvc.exe                                                                                                        taskse.exe     ', 'ldrmodules': 'ADVAPI32.dll            KERNEL32.dll            MSVCRT.dll                     USER32.dll  ', 'svcscan': 'vssvc.exe                               wbengine.exe  ', 'cmdline': 'proforma invoice and bank swift-reg.pi-0086547654.exe executed the Command line : \"C:\\\\Users\\\\User\\\\Downloads\\\\Proforma Invoice and Bank swift-REG.PI-0086547654.exe\"                                                                                 @WanaDecryptor executed the Commnad line : @WanaDecryptor@.exe co                                                         \\ntaskhsvc.exe executed the Command line : TaskData\\\\Tor\\\\taskhsvc.exe                                                                                                                                                                      \\nconhost.exe executed the Command line :   \\\\??\\\\C:\\\\Windows\\\\system32\\\\conhost.exe 0x4                                                                                                   \\\\??\\\\C:                       \\n@WanaDecryptor executed the Command line : @WanaDecryptor@.exe         ', '__index_level_0__': 2}\n",
      "Predicted Label: Fileless\n",
      "\n",
      "Text: {'Name': 'physmem26.raw', 'pslist': 'No unique processes', 'pstree': 'No unique parent and child processes', 'psxview': 'No unique hidden processes', 'dlllist': 'ADVAPI32.dll               KERNEL32.dll                 MSVCRT.dll                 SHELL32.dll                    SHLWAPI.dll              USER32.dll                 WININET.dll                  ntdll.dll                             ole32.dll', 'handles': 'No unique handles', 'ldrmodules': 'ADVAPI32.dll               KERNEL32.dll                 MSVCRT.dll                 SHELL32.dll                    SHLWAPI.dll              USER32.dll                 WININET.dll                  ntdll.dll                             ole32.dll', 'svcscan': 'No unique services', 'cmdline': 'No unique commands run', '__index_level_0__': 25}\n",
      "Predicted Label: Fileless\n",
      "\n",
      "Text: {'Name': 'physmem55.raw', 'pslist': 'System                                                    smss.exe                                            wininit.exe                                         Runtimebroker.exe                     taskhostw.exe                                 winlogon.exe                                    csrss.exe                                            service.exe                                      svchost.exe                                                                               lsass.exe                                              explorer.exe  ', 'pstree': 'The parent process is System                                                                                                                                             The child process of System is smss.exe                                                                                                                                                                                                                                                                                    The parent process is smss.exe                                                                                                                                                                          The child process of  smss.exe is wininit.exe                                                                                                          The parent process is svchost.exe                                                                                                                                                                         The child process of svchost.exe is RuntimeBroker.exe                                                                              The parent process is svchost.exe                                                                                                                                                                         The child process of svchost.exe is taskhostw.exe                                                                                                              The parent process is smsss.exe                                                                                                                                                                        The child process of smss.exe is winlogon.exe                                                                                                    The parent process is smss.exe                                                                                                                                       The child process of smss.exe is csrss.exe                                                                                                                 The parent process is service.exe                                                                                                                                   The child process of service.exe is svchost.exe                                                                                                                                                                                                               The parent process is wininit.exe                                                                                                                                       The child process of wininit.exe is lsass.exe                                                                                                               The parent process is userinit.exe                                                                                                                                    The child process of userinit.exe is explorer.exe ', 'psxview': 'System                                                    smss.exe                                            wininit.exe                                         Runtimebroker.exe                     taskhostw.exe                                 winlogon.exe                                    csrss.exe                                            service.exe                                      svchost.exe                                                                                   lsass.exe                                              explorer.exe ', 'dlllist': 'ADVAPI32.dll            KERNEL32.dll                               USER32.dll                              ntdll.dll   ', 'handles': 'System                                                    smss.exe                                            wininit.exe                                         Runtimebroker.exe                     taskhostw.exe                                 winlogon.exe                                    csrss.exe                                            service.exe                                      svchost.exe                                                                                   lsass.exe                                              explorer.exe  ', 'ldrmodules': 'ADVAPI32.dll            KERNEL32.dll                               USER32.dll                              ntdll.dll      ', 'svcscan': 'SamSs                                                Keylso                                                 VaultSvc                                             Eventlog                                                  Task Scheduler', 'cmdline': 'smss.exe executed the Command line :  \\\\SystemRoot\\\\smss.exe                                                                      wininit.exe executed the Command line : wininit.exe                                                                                                 RuntimeBroker executed the Command line : C:\\\\Windows\\\\System32\\\\RuntimeBroker.exe -Embedding                                                                                                                                                                                                         taskhostwexe executed the Command line : taskhostw.exe {222A245B-E637-4AE9-A93F-A59CA119A75E}                                                                                                                                                                                   winlogon.exe executed the Command line : winlogon.exe                                                                                          csrss.exe executed the Command line : %SystemRoot%\\\\system32\\\\csrss.exe ObjectDirectory=\\\\Windows SharedSection=1024                                                                                                             services.exe executed the Command line : C:\\\\Windows\\\\system32\\\\services.exe                                 svchost.exe executed the Command line : C:\\\\Windows\\\\system32\\\\svchost.exe -k DcomLaunch -p                                                                                                                                                                                       lsass.exe executed the Command line : C:\\\\Windows\\\\system32\\\\lsass.exe                                                        explorer.exe executed the Command line : C:\\\\Windows\\\\Explorer.EXE', '__index_level_0__': 54}\n",
      "Predicted Label: Benign\n",
      "\n",
      "Text: {'Name': 'physmem22.raw', 'pslist': 'No unique processes', 'pstree': 'No unique parent and child processes', 'psxview': 'No unique hidden processes', 'dlllist': 'No unique dllls', 'handles': 'No unique handles', 'ldrmodules': 'No unique ldrmodules', 'svcscan': 'No unique services', 'cmdline': 'No unique commands run', '__index_level_0__': 21}\n",
      "Predicted Label: Fileless\n",
      "\n",
      "Text: {'Name': 'physmem11.raw', 'pslist': 'Grandcrab.exe', 'pstree': 'No unique parent and child processes', 'psxview': 'No unique hidden processes', 'dlllist': 'KERNEL32.dll             USER32.dll                       ole32.dll ', 'handles': 'No unique handles', 'ldrmodules': 'KERNEL32.dll             USER32.dll                       ole32.dll ', 'svcscan': 'No unique services', 'cmdline': 'No unique commands run', '__index_level_0__': 10}\n",
      "Predicted Label: Fileless\n",
      "\n",
      "Text: {'Name': 'physmem6.raw', 'pslist': 'System                                                    smss.exe                                            wininit.exe                                         Runtimebroker.exe                     taskhostw.exe                                 winlogon.exe                                    csrss.exe                                            service.exe                                      svchost.exe                                                                                   lsass.exe                                              explorer.exe  ', 'pstree': 'The parent process is System                                                                                                                                             The child process of System is smss.exe                                                                                                                                                                                                                                                                                    The parent process is smss.exe                                                                                                                                                                          The child process of  smss.exe is wininit.exe                                                                                                          The parent process is svchost.exe                                                                                                                                                                         The child process of svchost.exe is RuntimeBroker.exe                                                                              The parent process is svchost.exe                                                                                                                                                                         The child process of svchost.exe is taskhostw.exe                                                                                                              The parent process is smsss.exe                                                                                                                                                                        The child process of smss.exe is winlogon.exe                                                                                                    The parent process is smss.exe                                                                                                                                       The child process of smss.exe is csrss.exe                                                                                                                 The parent process is service.exe                                                                                                                                   The child process of service.exe is svchost.exe                                                                                                                                                                                                           The parent process is wininit.exe                                                                                                                                       The child process of wininit.exe is lsass.exe                                                                                                               The parent process is userinit.exe                                                                                                                                    The child process of userinit.exe is explorer.exe   ', 'psxview': 'System                                                    smss.exe                                            wininit.exe                                         Runtimebroker.exe                     taskhostw.exe                                 winlogon.exe                                    csrss.exe                                            service.exe                                      svchost.exe                                                                                   lsass.exe                                              explorer.exe     ', 'dlllist': 'ADVAPI32.dll            KERNEL32.dll                               USER32.dll                              ntdll.dll      ', 'handles': 'System                                                    smss.exe                                            wininit.exe                                         Runtimebroker.exe                     taskhostw.exe                                 winlogon.exe                                    csrss.exe                                            service.exe                                      svchost.exe                                                                                   lsass.exe                                              explorer.exe ', 'ldrmodules': 'ADVAPI32.dll            KERNEL32.dll                               USER32.dll                              ntdll.dll      ', 'svcscan': 'SamSs                                                Keylso                                                 VaultSvc                                             Eventlog                                                  Task Scheduler', 'cmdline': 'smss.exe executed the Command line :  \\\\SystemRoot\\\\smss.exe                                                                      wininit.exe executed the Command line : wininit.exe                                                                                                 RuntimeBroker executed the Command line : C:\\\\Windows\\\\System32\\\\RuntimeBroker.exe -Embedding                                                                                                                                                                                                         taskhostwexe executed the Command line : taskhostw.exe {222A245B-E637-4AE9-A93F-A59CA119A75E}                                                                                                                                                                                   winlogon.exe executed the Command line : winlogon.exe                                                                                          csrss.exe executed the Command line : %SystemRoot%\\\\system32\\\\csrss.exe ObjectDirectory=\\\\Windows SharedSection=1024                                                                                                             services.exe executed the Command line : C:\\\\Windows\\\\system32\\\\services.exe                                 svchost.exe executed the Command line : C:\\\\Windows\\\\system32\\\\svchost.exe -k DcomLaunch -p                                                                                                                                                                                       lsass.exe executed the Command line : C:\\\\Windows\\\\system32\\\\lsass.exe                                                        explorer.exe executed the Command line : C:\\\\Windows\\\\Explorer.EXE    ', '__index_level_0__': 5}\n",
      "Predicted Label: Benign\n",
      "\n",
      "Text: {'Name': 'physmem16.raw', 'pslist': 'System                                                    smss.exe                                            wininit.exe                                         Runtimebroker.exe                     taskhostw.exe                                 winlogon.exe                                    csrss.exe                                            service.exe                                      svchost.exe                                                                                   lsass.exe                                              explorer.exe  ', 'pstree': 'The parent process is System                                                                                                                                             The child process of System is smss.exe                                                                                                                                                                                                                                                                                    The parent process is smss.exe                                                                                                                                                                          The child process of  smss.exe is wininit.exe                                                                                                          The parent process is svchost.exe                                                                                                                                                                         The child process of svchost.exe is RuntimeBroker.exe                                                                              The parent process is svchost.exe                                                                                                                                                                         The child process of svchost.exe is taskhostw.exe                                                                                                              The parent process is smsss.exe                                                                                                                                                                        The child process of smss.exe is winlogon.exe                                                                                                    The parent process is smss.exe                                                                                                                                       The child process of smss.exe is csrss.exe                                                                                                                 The parent process is service.exe                                                                                                                                   The child process of service.exe is svchost.exe                                                                                                                                                                                                            The parent process is wininit.exe                                                                                                                                       The child process of wininit.exe is lsass.exe                                                                                                               The parent process is userinit.exe                                                                                                                                    The child process of userinit.exe is explorer.exe   ', 'psxview': 'System                                                    smss.exe                                            wininit.exe                                         Runtimebroker.exe                     taskhostw.exe                                 winlogon.exe                                    csrss.exe                                            service.exe                                      svchost.exe                                                                                   lsass.exe                                              explorer.exe    ', 'dlllist': 'ADVAPI32.dll            KERNEL32.dll                               USER32.dll                              ntdll.dll      ', 'handles': 'System                                                    smss.exe                                            wininit.exe                                         Runtimebroker.exe                     taskhostw.exe                                 winlogon.exe                                    csrss.exe                                            service.exe                                      svchost.exe                                                                                   lsass.exe                                              explorer.exe    ', 'ldrmodules': 'ADVAPI32.dll            KERNEL32.dll                               USER32.dll                              ntdll.dll      ', 'svcscan': 'SamSs                                                Keylso                                                 VaultSvc                                             Eventlog                                                  Task Scheduler', 'cmdline': 'smss.exe executed the Command line :  \\\\SystemRoot\\\\smss.exe                                                                      wininit.exe executed the Command line : wininit.exe                                                                                                 RuntimeBroker executed the Command line : C:\\\\Windows\\\\System32\\\\RuntimeBroker.exe -Embedding                                                                                                                                                                                                         taskhostwexe executed the Command line : taskhostw.exe {222A245B-E637-4AE9-A93F-A59CA119A75E}                                                                                                                                                                                   winlogon.exe executed the Command line : winlogon.exe                                                                                          csrss.exe executed the Command line : %SystemRoot%\\\\system32\\\\csrss.exe ObjectDirectory=\\\\Windows SharedSection=1024                                                                                                             services.exe executed the Command line : C:\\\\Windows\\\\system32\\\\services.exe                                 svchost.exe executed the Command line : C:\\\\Windows\\\\system32\\\\svchost.exe -k DcomLaunch -p                                                                                                                                                                                       lsass.exe executed the Command line : C:\\\\Windows\\\\system32\\\\lsass.exe                                                        explorer.exe executed the Command line : C:\\\\Windows\\\\Explorer.EXE    ', '__index_level_0__': 15}\n",
      "Predicted Label: Benign\n",
      "\n",
      "Text: {'Name': 'physmem43.raw', 'pslist': 'System                                                    smss.exe                                            wininit.exe                                         Runtimebroker.exe                     taskhostw.exe                                 winlogon.exe                                    csrss.exe                                            service.exe                                      svchost.exe                                                                                   lsass.exe                                              explorer.exe  ', 'pstree': 'The parent process is System                                                                                                                                             The child process of System is smss.exe                                                                                                                                                                                                                                                                                    The parent process is smss.exe                                                                                                                                                                          The child process of  smss.exe is wininit.exe                                                                                                          The parent process is svchost.exe                                                                                                                                                                         The child process of svchost.exe is RuntimeBroker.exe                                                                              The parent process is svchost.exe                                                                                                                                                                         The child process of svchost.exe is taskhostw.exe                                                                                                              The parent process is smsss.exe                                                                                                                                                                        The child process of smss.exe is winlogon.exe                                                                                                    The parent process is smss.exe                                                                                                                                       The child process of smss.exe is csrss.exe                                                                                                                 The parent process is service.exe                                                                                                                                   The child process of service.exe is svchost.exe                                                                                                                                                                                                        The parent process is wininit.exe                                                                                                                                       The child process of wininit.exe is lsass.exe                                                                                                               The parent process is userinit.exe                                                                                                                                    The child process of userinit.exe is explorer.exe ', 'psxview': 'System                                                    smss.exe                                            wininit.exe                                         Runtimebroker.exe                     taskhostw.exe                                 winlogon.exe                                    csrss.exe                                            service.exe                                      svchost.exe                                                                                   lsass.exe                                              explorer.exe ', 'dlllist': 'ADVAPI32.dll            KERNEL32.dll                               USER32.dll                              ntdll.dll      ', 'handles': 'System                                                    smss.exe                                            wininit.exe                                         Runtimebroker.exe                     taskhostw.exe                                 winlogon.exe                                    csrss.exe                                            service.exe                                      svchost.exe                                                                                   lsass.exe                                              explorer.exe  ', 'ldrmodules': 'ADVAPI32.dll            KERNEL32.dll                               USER32.dll                              ntdll.dll      ', 'svcscan': 'SamSs                                                Keylso                                                 VaultSvc                                             Eventlog                                                  Task Scheduler', 'cmdline': 'smss.exe executed the Command line :  \\\\SystemRoot\\\\smss.exe                                                                      wininit.exe executed the Command line : wininit.exe                                                                                                 RuntimeBroker executed the Command line : C:\\\\Windows\\\\System32\\\\RuntimeBroker.exe -Embedding                                                                                                                                                                                                         taskhostwexe executed the Command line : taskhostw.exe {222A245B-E637-4AE9-A93F-A59CA119A75E}                                                                                                                                                                                   winlogon.exe executed the Command line : winlogon.exe                                                                                          csrss.exe executed the Command line : %SystemRoot%\\\\system32\\\\csrss.exe ObjectDirectory=\\\\Windows SharedSection=1024                                                                                                             services.exe executed the Command line : C:\\\\Windows\\\\system32\\\\services.exe                                 svchost.exe executed the Command line : C:\\\\Windows\\\\system32\\\\svchost.exe -k DcomLaunch -p                                                                                                                                                                                       lsass.exe executed the Command line : C:\\\\Windows\\\\system32\\\\lsass.exe                                                        explorer.exe executed the Command line : C:\\\\Windows\\\\Explorer.EXE ', '__index_level_0__': 42}\n",
      "Predicted Label: Benign\n",
      "\n",
      "Text: {'Name': 'physmem58.raw', 'pslist': 'onenote.exe                              printfilterpipelinesvc.exe        shellexperiencehost.exe         splwow64.exe  ', 'pstree': 'The parent process is lockbit_3.0_unpacked.exe                                                                                                                         The child process of lockbit_3.0_unpacked.exe is splwow64.exe                                                               The parent process is printfilterpipelinesvc.exe                                                                                               The child process of printfilterpipelinesvc.exe is onenote.exe', 'psxview': 'splwow64.exe                                                    shellexperiencehost.exe                              onenote.exe       ', 'dlllist': 'No unique dllls', 'handles': 'onenote.exe                              printfilterpipelinesvc.exe        shellexperiencehost.exe         splwow64.exe  ', 'ldrmodules': 'No unique ldrmodules', 'svcscan': 'No unique services', 'cmdline': 'No unique commands run', '__index_level_0__': 57}\n",
      "Predicted Label: Fileless\n",
      "\n",
      "Text: {'Name': 'physmem54.raw', 'pslist': 'unsecapp.exe                                                                                                                                         svchost.exe 3e6a72b0f67784 ', 'pstree': 'The parent process is svchost.exe                                                                                                                                                                The child process of svchost.exe is unsecapp.exe', 'psxview': 'unsecapp.exe                                                                                                                                         svchost.exe', 'dlllist': 'KERNEL32.dll\\nMSIMG32.dll', 'handles': 'unsecapp.exe                                                                                                                                         svchost.exe', 'ldrmodules': 'KERNEL32.dll\\nMSIMG32.dll', 'svcscan': 'vssvc.exe', 'cmdline': 'unsecapp.exe executed the Command line : C:\\\\Windows\\\\system32\\\\wbem\\\\unsecapp.exe -Embedding                                                                                                                                                                                 svchost.exe executed the Command line : C:\\\\Windows\\\\system32\\\\svchost.exe -k wsappx -p -s AppXSvc\\nsvchost.exe executed the Command line : C:\\\\Windows\\\\system32\\\\svchost.exe -k appmodel -p -s camsvc                  ', '__index_level_0__': 53}\n",
      "Predicted Label: Benign\n",
      "\n",
      "Text: {'Name': 'physmem33.raw', 'pslist': 'System                                                    smss.exe                                            wininit.exe                                         Runtimebroker.exe                     taskhostw.exe                                 winlogon.exe                                    csrss.exe                                            service.exe                                      svchost.exe                                                                                   lsass.exe                                              explorer.exe  ', 'pstree': 'The parent process is System                                                                                                                                             The child process of System is smss.exe                                                                                                                                                                                                                                                                                    The parent process is smss.exe                                                                                                                                                                          The child process of  smss.exe is wininit.exe                                                                                                          The parent process is svchost.exe                                                                                                                                                                         The child process of svchost.exe is RuntimeBroker.exe                                                                              The parent process is svchost.exe                                                                                                                                                                         The child process of svchost.exe is taskhostw.exe                                                                                                              The parent process is smsss.exe                                                                                                                                                                        The child process of smss.exe is winlogon.exe                                                                                                    The parent process is smss.exe                                                                                                                                       The child process of smss.exe is csrss.exe                                                                                                                 The parent process is service.exe                                                                                                                                   The child process of service.exe is svchost.exe                                                                                                                                                                                                              The parent process is wininit.exe                                                                                                                                       The child process of wininit.exe is lsass.exe                                                                                                               The parent process is userinit.exe                                                                                                                                    The child process of userinit.exe is explorer.exe ', 'psxview': 'System                                                    smss.exe                                            wininit.exe                                         Runtimebroker.exe                     taskhostw.exe                                 winlogon.exe                                    csrss.exe                                            service.exe                                      svchost.exe                                                                                   lsass.exe                                              explorer.exe ', 'dlllist': 'ADVAPI32.dll            KERNEL32.dll                               USER32.dll                              ntdll.dll      ', 'handles': 'System                                                    smss.exe                                            wininit.exe                                         Runtimebroker.exe                     taskhostw.exe                                 winlogon.exe                                    csrss.exe                                            service.exe                                      svchost.exe                                                                                   lsass.exe                                              explorer.exe   ', 'ldrmodules': 'ADVAPI32.dll            KERNEL32.dll                               USER32.dll                              ntdll.dll      ', 'svcscan': 'SamSs                                                Keylso                                                 VaultSvc                                             Eventlog                                                  Task Scheduler', 'cmdline': 'smss.exe executed the Command line :  \\\\SystemRoot\\\\smss.exe                                                                      wininit.exe executed the Command line : wininit.exe                                                                                                 RuntimeBroker executed the Command line : C:\\\\Windows\\\\System32\\\\RuntimeBroker.exe -Embedding                                                                                                                                                                                                         taskhostwexe executed the Command line : taskhostw.exe {222A245B-E637-4AE9-A93F-A59CA119A75E}                                                                                                                                                                                   winlogon.exe executed the Command line : winlogon.exe                                                                                          csrss.exe executed the Command line : %SystemRoot%\\\\system32\\\\csrss.exe ObjectDirectory=\\\\Windows SharedSection=1024                                                                                                             services.exe executed the Command line : C:\\\\Windows\\\\system32\\\\services.exe                                 svchost.exe executed the Command line : C:\\\\Windows\\\\system32\\\\svchost.exe -k DcomLaunch -p                                                                                                                                                                                       lsass.exe executed the Command line : C:\\\\Windows\\\\system32\\\\lsass.exe                                                        explorer.exe executed the Command line : C:\\\\Windows\\\\Explorer.EXE ', '__index_level_0__': 32}\n",
      "Predicted Label: Benign\n",
      "\n"
     ]
    }
   ],
   "source": [
    "predicted_class_ids = np.argmax(predictions.predictions, axis=-1)\n",
    "id2label = {0: \"Benign\", 1: \"Fileless\"}\n",
    "predicted_labels = [id2label[class_id] for class_id in predicted_class_ids]\n",
    "# Print predictions\n",
    "for text, label in zip(test_dataset, predicted_labels):\n",
    "    print(f\"Text: {text}\\nPredicted Label: {label}\\n\")\n"
   ]
  }
 ],
 "metadata": {
  "kernelspec": {
   "display_name": "Python 3",
   "language": "python",
   "name": "python3"
  },
  "language_info": {
   "codemirror_mode": {
    "name": "ipython",
    "version": 3
   },
   "file_extension": ".py",
   "mimetype": "text/x-python",
   "name": "python",
   "nbconvert_exporter": "python",
   "pygments_lexer": "ipython3",
   "version": "3.11.3"
  }
 },
 "nbformat": 4,
 "nbformat_minor": 2
}
